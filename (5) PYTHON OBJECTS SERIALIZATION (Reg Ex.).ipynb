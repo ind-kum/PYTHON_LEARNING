{
 "cells": [
  {
   "cell_type": "markdown",
   "metadata": {},
   "source": [
    "# Pickle in Python: Object Serialization"
   ]
  },
  {
   "cell_type": "code",
   "execution_count": 1,
   "metadata": {},
   "outputs": [],
   "source": [
    "import pickle"
   ]
  },
  {
   "cell_type": "code",
   "execution_count": 2,
   "metadata": {},
   "outputs": [],
   "source": [
    "flower_dict = {1:'Rose',2:'Lily',3:'Lotus',4:'Tulip'}"
   ]
  },
  {
   "cell_type": "code",
   "execution_count": 3,
   "metadata": {},
   "outputs": [],
   "source": [
    "filename = 'flower'\n",
    "outfile = open(filename,'wb')"
   ]
  },
  {
   "cell_type": "code",
   "execution_count": 4,
   "metadata": {},
   "outputs": [],
   "source": [
    "# pickling the file\n",
    "pickle.dump(flower_dict,outfile)\n",
    "outfile.close()"
   ]
  },
  {
   "cell_type": "code",
   "execution_count": 5,
   "metadata": {},
   "outputs": [],
   "source": [
    "#unpickle the file\n",
    "infile=open(filename,'rb')"
   ]
  },
  {
   "cell_type": "code",
   "execution_count": 6,
   "metadata": {},
   "outputs": [],
   "source": [
    "new_dict=pickle.load(infile)"
   ]
  },
  {
   "cell_type": "code",
   "execution_count": 7,
   "metadata": {},
   "outputs": [],
   "source": [
    "infile.close()"
   ]
  },
  {
   "cell_type": "code",
   "execution_count": 8,
   "metadata": {},
   "outputs": [
    {
     "name": "stdout",
     "output_type": "stream",
     "text": [
      "{1: 'Rose', 2: 'Lily', 3: 'Lotus', 4: 'Tulip'}\n"
     ]
    }
   ],
   "source": [
    "print(new_dict)"
   ]
  },
  {
   "cell_type": "markdown",
   "metadata": {},
   "source": [
    "REGEX OPERATION"
   ]
  },
  {
   "cell_type": "markdown",
   "metadata": {},
   "source": [
    "A RegEx, or Regular Expression, is a sequence of chanracters that forms a search pattern.\n",
    "RegEx can be used to check if a string contains the specified search pattern."
   ]
  },
  {
   "cell_type": "code",
   "execution_count": 9,
   "metadata": {},
   "outputs": [],
   "source": [
    "import re"
   ]
  },
  {
   "cell_type": "code",
   "execution_count": 10,
   "metadata": {},
   "outputs": [],
   "source": [
    "txt=\"The cloud in sky\""
   ]
  },
  {
   "cell_type": "code",
   "execution_count": 11,
   "metadata": {},
   "outputs": [],
   "source": [
    "# -> starts with\n",
    "#.*  -->   any number of charactor  --> wild card charactor\n",
    "# $  --> end of the string\n",
    "x=re.search(\"The.*sky$\",txt)"
   ]
  },
  {
   "cell_type": "code",
   "execution_count": 12,
   "metadata": {},
   "outputs": [
    {
     "data": {
      "text/plain": [
       "<re.Match object; span=(0, 16), match='The cloud in sky'>"
      ]
     },
     "execution_count": 12,
     "metadata": {},
     "output_type": "execute_result"
    }
   ],
   "source": [
    "x"
   ]
  },
  {
   "cell_type": "markdown",
   "metadata": {},
   "source": [
    "RegEx Functions the re module offers a set of functions that allows us to search\n",
    "a string for a match:\n",
    "    \n",
    "Function Description\n",
    "\n",
    "\n",
    "findall-> Returns a list containing all matches\n",
    "\n",
    "search-> Returns a Match object if there is a match anywhere in the string\n",
    "\n",
    "split-> Returns a list where the string has been split at each match\n",
    "\n",
    "sub-> Replaces on or many matches with a string"
   ]
  },
  {
   "cell_type": "code",
   "execution_count": 13,
   "metadata": {},
   "outputs": [
    {
     "name": "stdout",
     "output_type": "stream",
     "text": [
      "[]\n"
     ]
    }
   ],
   "source": [
    "str=\"The cloud in the sky, The birds are flying in the sky.\"\n",
    "x=re.findall(\"rain\",str)\n",
    "print(x)"
   ]
  },
  {
   "cell_type": "code",
   "execution_count": 14,
   "metadata": {},
   "outputs": [
    {
     "name": "stdout",
     "output_type": "stream",
     "text": [
      "['sky', 'sky']\n"
     ]
    }
   ],
   "source": [
    "x=re.findall(\"sky\",str)\n",
    "print(x)"
   ]
  },
  {
   "cell_type": "code",
   "execution_count": 15,
   "metadata": {},
   "outputs": [
    {
     "name": "stdout",
     "output_type": "stream",
     "text": [
      "<re.Match object; span=(12, 17), match='Spain'>\n"
     ]
    }
   ],
   "source": [
    "str = \"The rain in Spain. The cloud in Spain\"\n",
    "p=re.search(\"Spain\",str)\n",
    "print(p)"
   ]
  },
  {
   "cell_type": "code",
   "execution_count": 16,
   "metadata": {},
   "outputs": [
    {
     "name": "stdout",
     "output_type": "stream",
     "text": [
      "None\n"
     ]
    }
   ],
   "source": [
    "# small Letter in spain\n",
    "p=re.search(\"spain\",str)\n",
    "print(p)"
   ]
  },
  {
   "cell_type": "code",
   "execution_count": 17,
   "metadata": {},
   "outputs": [
    {
     "name": "stdout",
     "output_type": "stream",
     "text": [
      "The first white-space chanrater is located in position: 3\n"
     ]
    }
   ],
   "source": [
    "#\\s ->white space character\n",
    "x = re.search(\"\\s\", str)\n",
    "\n",
    "print(\"The first white-space chanrater is located in position:\", x.start())"
   ]
  },
  {
   "cell_type": "code",
   "execution_count": 18,
   "metadata": {},
   "outputs": [
    {
     "name": "stdout",
     "output_type": "stream",
     "text": [
      "['The']\n",
      "Yes, there is a match!\n"
     ]
    }
   ],
   "source": [
    "str = \"The cloud id Sky\"\n",
    "#Check if the string starts with \"the\":\n",
    "x = re.findall(\"\\AThe\", str)\n",
    "print(x)\n",
    "\n",
    "if (x):\n",
    "    print(\"Yes, there is a match!\")\n",
    "else:\n",
    "    print(\"No match\")\n",
    "    "
   ]
  },
  {
   "cell_type": "code",
   "execution_count": 19,
   "metadata": {},
   "outputs": [
    {
     "name": "stdout",
     "output_type": "stream",
     "text": [
      "None\n"
     ]
    }
   ],
   "source": [
    "str = \"The rain in spain\"\n",
    "x = re.search(\"Portugal\", str)\n",
    "print(x)"
   ]
  },
  {
   "cell_type": "markdown",
   "metadata": {},
   "source": [
    "The split() Function\n",
    "\n",
    "The split()function returns a list where the string has been split at each match:"
   ]
  },
  {
   "cell_type": "code",
   "execution_count": 20,
   "metadata": {},
   "outputs": [
    {
     "name": "stdout",
     "output_type": "stream",
     "text": [
      "['The', 'rian', 'in', 'Spain']\n"
     ]
    }
   ],
   "source": [
    "str = \"The rian in Spain\"\n",
    "x = re.split(\"\\s\", str)\n",
    "print(x)"
   ]
  },
  {
   "cell_type": "code",
   "execution_count": 21,
   "metadata": {},
   "outputs": [
    {
     "name": "stdout",
     "output_type": "stream",
     "text": [
      "['The', 'rain in Spain']\n",
      "['The', 'rain', 'in Spain']\n",
      "['The', 'rain', 'in', 'Spain']\n",
      "['The', 'rain', 'in', 'Spain']\n"
     ]
    }
   ],
   "source": [
    "# Split the string only at the first occurrence:\n",
    "str = \"The rain in Spain\"\n",
    "x1 = re.split(\"\\s\", str, 1)\n",
    "print(x1)\n",
    "\n",
    "x2=re.split(\"\\s\",str,2)\n",
    "print(x2)\n",
    "\n",
    "x3=re.split(\"\\s\",str,3)\n",
    "print(x3)\n",
    "\n",
    "x4=re.split(\"\\s\",str)\n",
    "print(x4)"
   ]
  },
  {
   "cell_type": "markdown",
   "metadata": {},
   "source": [
    "The sub()Function\n",
    "\n",
    "The sub()function replaces the matches with the text of your choice:"
   ]
  },
  {
   "cell_type": "code",
   "execution_count": 22,
   "metadata": {},
   "outputs": [
    {
     "name": "stdout",
     "output_type": "stream",
     "text": [
      "The5cloud5in5the5sky\n"
     ]
    }
   ],
   "source": [
    "str = \"The cloud in the sky\"\n",
    "x = re.sub(\"\\s\", \"5\", str)\n",
    "print(x)"
   ]
  },
  {
   "cell_type": "markdown",
   "metadata": {},
   "source": [
    "Replace the first 2 occurrences:"
   ]
  },
  {
   "cell_type": "markdown",
   "metadata": {},
   "source": [
    "import re"
   ]
  },
  {
   "cell_type": "code",
   "execution_count": 23,
   "metadata": {},
   "outputs": [
    {
     "name": "stdout",
     "output_type": "stream",
     "text": [
      "The9cloud9in sky\n"
     ]
    }
   ],
   "source": [
    "str = \"The cloud in sky\"\n",
    "x = re.sub(\"\\s\", \"9\", str, 2)\n",
    "print(x)"
   ]
  },
  {
   "cell_type": "markdown",
   "metadata": {},
   "source": [
    "Print the position (start- and end-position) of the first match occurence,\n",
    "\n",
    "The regular expression looks for any words that strts with an upper case \"S\":"
   ]
  },
  {
   "cell_type": "code",
   "execution_count": 24,
   "metadata": {},
   "outputs": [
    {
     "name": "stdout",
     "output_type": "stream",
     "text": [
      "(17, 20)\n"
     ]
    }
   ],
   "source": [
    "# \\b -> begining of the word\n",
    "str=\"The cloud in the Sky\"\n",
    "#r -> is the raw string  r is used\n",
    "\n",
    "#\"w+\": This expression matches the alphanumeric chanracter in the string\n",
    "\n",
    "x=re.search(r\"\\bS\\w+\",str)\n",
    "print(x.span())"
   ]
  },
  {
   "cell_type": "markdown",
   "metadata": {},
   "source": [
    "Match Object\n",
    "\n",
    "A Match object is an object containing information about the search and the result.\n",
    "\n",
    "Note: If there is no match, the value None will ne returned, instead of the Match Object."
   ]
  },
  {
   "cell_type": "code",
   "execution_count": 25,
   "metadata": {},
   "outputs": [
    {
     "name": "stdout",
     "output_type": "stream",
     "text": [
      "<re.Match object; span=(5, 7), match='ai'>\n"
     ]
    }
   ],
   "source": [
    "str = \"The rain in Spain\"\n",
    "x = re.search(\"ai\", str)\n",
    "print(x) #this will print on object"
   ]
  },
  {
   "cell_type": "markdown",
   "metadata": {},
   "source": [
    "The Match object has properties and methods used to retrieve information about the search, and the result:\n",
    "    \n",
    "    .spain() returns a tuple containing the start-, and end position of the month.\n",
    "    \n",
    "    .string returns the part of the string where there was a match\n",
    "    \n",
    "    \n",
    "    Example Print the position (start- and end-position) of the first match occurrence.\n",
    "    \n",
    "    The regular expression looks for any words that starts with an upper case \"S\":"
   ]
  },
  {
   "cell_type": "code",
   "execution_count": 26,
   "metadata": {},
   "outputs": [
    {
     "name": "stdout",
     "output_type": "stream",
     "text": [
      "(12, 17)\n"
     ]
    }
   ],
   "source": [
    "str = \"The rain in spain\"\n",
    "x = re.search(r\"\\bs\\w+\", str)\n",
    "print(x.span())"
   ]
  },
  {
   "cell_type": "code",
   "execution_count": 27,
   "metadata": {},
   "outputs": [
    {
     "name": "stdout",
     "output_type": "stream",
     "text": [
      "The rain in spain\n"
     ]
    }
   ],
   "source": [
    "#Print the string passed into the function:\n",
    "str = \"The rain in spain\"\n",
    "x = re.search(r\"\\bs\\w+\", str)\n",
    "print(x.string)"
   ]
  },
  {
   "cell_type": "markdown",
   "metadata": {},
   "source": [
    "Print the part of the string where there was a match.\n",
    "\n",
    "The regular expression looks for any words that starts with an upper case \"S\""
   ]
  },
  {
   "cell_type": "code",
   "execution_count": 28,
   "metadata": {},
   "outputs": [
    {
     "name": "stdout",
     "output_type": "stream",
     "text": [
      "Spain\n"
     ]
    }
   ],
   "source": [
    "str = \"The rain in Spain\"\n",
    "x = re.search(r\"\\bS\\w+\", str)\n",
    "print(x.group())"
   ]
  },
  {
   "cell_type": "markdown",
   "metadata": {},
   "source": [
    "Example of w+ and ^ Expression\n",
    "\n",
    "\"^\" This expression matches the start of a string\n",
    "\n",
    "\"w+\" This expression matches the alphanumeric character in the string"
   ]
  },
  {
   "cell_type": "code",
   "execution_count": 29,
   "metadata": {},
   "outputs": [
    {
     "name": "stdout",
     "output_type": "stream",
     "text": [
      "['The']\n"
     ]
    }
   ],
   "source": [
    "x=\"The earth revolves round the sun\"\n",
    "rp=re.findall(r\"^\\w+\",x)      # + --> or more\n",
    "print(rp)"
   ]
  },
  {
   "cell_type": "code",
   "execution_count": 30,
   "metadata": {},
   "outputs": [
    {
     "name": "stdout",
     "output_type": "stream",
     "text": [
      "['The55']\n"
     ]
    }
   ],
   "source": [
    "x=\"The55 earth revolves round the sun\"\n",
    "rp=re.findall(r\"^\\w+\",x)      # + --> or more\n",
    "print(rp)"
   ]
  },
  {
   "cell_type": "code",
   "execution_count": 31,
   "metadata": {},
   "outputs": [
    {
     "name": "stdout",
     "output_type": "stream",
     "text": [
      "['The55', 'earth', 'revolves', 'round', 'the', 'sun']\n"
     ]
    }
   ],
   "source": [
    "print((re.split(r'\\s',x)))"
   ]
  },
  {
   "cell_type": "code",
   "execution_count": 32,
   "metadata": {},
   "outputs": [
    {
     "name": "stdout",
     "output_type": "stream",
     "text": [
      "['The55 earth revolve', ' round the ', 'un']\n"
     ]
    }
   ],
   "source": [
    "print(re.split(r's',x))  #  --> not splitting well"
   ]
  },
  {
   "cell_type": "markdown",
   "metadata": {},
   "source": [
    "Function compile()\n",
    "\n",
    "\n",
    "Regular expression are compile into pattern objects, which have methods for\n",
    "various oprations such as searching for pattern matches or performing string substifutions"
   ]
  },
  {
   "cell_type": "code",
   "execution_count": 33,
   "metadata": {},
   "outputs": [],
   "source": [
    "#find\n",
    "p=re.compile('[a-e]')"
   ]
  },
  {
   "cell_type": "code",
   "execution_count": 34,
   "metadata": {},
   "outputs": [
    {
     "name": "stdout",
     "output_type": "stream",
     "text": [
      "['e', 'a', 'd', 'b', 'e', 'a']\n"
     ]
    }
   ],
   "source": [
    "print(p.findall('Aye, said Mr. Gibenson Stark'))"
   ]
  },
  {
   "cell_type": "code",
   "execution_count": 35,
   "metadata": {},
   "outputs": [
    {
     "name": "stdout",
     "output_type": "stream",
     "text": [
      "['T', 'h', 'e', 'f', 'o', 'x', 'j', 'u', 'm', 'p', 's', 'o', 'v', 'e', 'r', 't', 'h', 'e', 'b', 'u', 'n', 'c', 'h', 'e', 's', 'o', 'f', 'g', 'r', 'a', 'p', 'e', 's', 'A', 'm', 'a', 'z', 'i', 'n', 'g', 't', 'a', 's', 't', 'e']\n"
     ]
    }
   ],
   "source": [
    "# find all the alphanumeric characters. elimirate any other character\n",
    "p=re.compile(r'[a-zA-Z]')\n",
    "\n",
    "print(p.findall('The 56 fox jumps @ over the 20 bunches of grapes! Amazing % taste.'))"
   ]
  },
  {
   "cell_type": "code",
   "execution_count": 36,
   "metadata": {},
   "outputs": [
    {
     "name": "stdout",
     "output_type": "stream",
     "text": [
      "['T', 'h', 'e', '5', '6', 'f', 'o', 'x', 'j', 'u', 'm', 'p', 's', 'o', 'v', 'e', 'r', 't', 'h', 'e', '2', '0', 'b', 'u', 'n', 'c', 'h', 'e', 's', 'o', 'f', 'g', 'r', 'a', 'p', 'e', 's', 'A', 'm', 'a', 'z', 'i', 'n', 'g', 't', 'a', 's', 't', 'e']\n"
     ]
    }
   ],
   "source": [
    "p=re.compile(r'[a-zA-Z0-9]')\n",
    "\n",
    "print(p.findall('The 56 fox jumps @ over the 20 bunches of grapes! Amazing % taste.'))"
   ]
  },
  {
   "cell_type": "code",
   "execution_count": 37,
   "metadata": {},
   "outputs": [
    {
     "name": "stdout",
     "output_type": "stream",
     "text": [
      "[' ', '5', '6', ' ', ' ', ' ', '@', ' ', ' ', ' ', '2', '0', ' ', ' ', ' ', '!', ' ', ' ', '%', ' ', '.']\n"
     ]
    }
   ],
   "source": [
    "p=re.compile(r'[^a-zA-Z]')   # ^ ->  not oprator\n",
    "\n",
    "print(p.findall('The 56 fox jumps @ over the 20 bunches of grapes! Amazing % taste.'))"
   ]
  }
 ],
 "metadata": {
  "kernelspec": {
   "display_name": "Python 3",
   "language": "python",
   "name": "python3"
  },
  "language_info": {
   "codemirror_mode": {
    "name": "ipython",
    "version": 3
   },
   "file_extension": ".py",
   "mimetype": "text/x-python",
   "name": "python",
   "nbconvert_exporter": "python",
   "pygments_lexer": "ipython3",
   "version": "3.7.4"
  }
 },
 "nbformat": 4,
 "nbformat_minor": 2
}
