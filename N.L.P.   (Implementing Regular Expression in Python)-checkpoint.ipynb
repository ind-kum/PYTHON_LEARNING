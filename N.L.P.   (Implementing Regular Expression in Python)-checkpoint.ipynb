{
 "cells": [
  {
   "cell_type": "markdown",
   "metadata": {},
   "source": [
    "## Implementing Regular Expression in Python"
   ]
  },
  {
   "cell_type": "code",
   "execution_count": 1,
   "metadata": {},
   "outputs": [
    {
     "name": "stdout",
     "output_type": "stream",
     "text": [
      "<re.Match object; span=(0, 5), match='tiger'>\n"
     ]
    }
   ],
   "source": [
    "import re\n",
    "\n",
    "string = \"tiger is the national animal of india\"\n",
    "pattern = \"tiger\"\n",
    "\n",
    "no = re.match(pattern, string)\n",
    "print (no)"
   ]
  },
  {
   "cell_type": "code",
   "execution_count": 2,
   "metadata": {},
   "outputs": [
    {
     "name": "stdout",
     "output_type": "stream",
     "text": [
      "None\n"
     ]
    }
   ],
   "source": [
    "import re\n",
    "\n",
    "string = \"tiger is the national animal of india\"\n",
    "pattern = \"tiger\"\n",
    "pattern2 = \"lion\"\n",
    "\n",
    "no = re.match(pattern2, string)\n",
    "print (no)\n",
    "# here giving none of match becouse lion not available in string"
   ]
  },
  {
   "cell_type": "code",
   "execution_count": 3,
   "metadata": {},
   "outputs": [
    {
     "name": "stdout",
     "output_type": "stream",
     "text": [
      "<re.Match object; span=(13, 21), match='national'>\n",
      "national\n"
     ]
    }
   ],
   "source": [
    "string = \"tiger is the national animal of india\"\n",
    "pattern = \"national\"\n",
    "\n",
    "no = re.search(pattern, string)\n",
    "print (no)\n",
    "\n",
    "print (no.group(0))"
   ]
  },
  {
   "cell_type": "code",
   "execution_count": 4,
   "metadata": {},
   "outputs": [
    {
     "name": "stdout",
     "output_type": "stream",
     "text": [
      "['national', 'national']\n"
     ]
    }
   ],
   "source": [
    "string = \"tiger is the national animal of india and national sports id hocky\"\n",
    "pattern = \"national\"\n",
    "\n",
    "no = re.findall(pattern, string)\n",
    "print(no)"
   ]
  },
  {
   "cell_type": "code",
   "execution_count": 5,
   "metadata": {},
   "outputs": [
    {
     "name": "stdout",
     "output_type": "stream",
     "text": [
      "13\n",
      "42\n"
     ]
    }
   ],
   "source": [
    "no = re.finditer(pattern, string)\n",
    "for m in no:\n",
    "    print(m.start())"
   ]
  },
  {
   "cell_type": "code",
   "execution_count": 6,
   "metadata": {},
   "outputs": [
    {
     "name": "stdout",
     "output_type": "stream",
     "text": [
      "['12-09-1992', '15-12-1999']\n"
     ]
    }
   ],
   "source": [
    "string = \"Ron was born on 12-09-1992 and he was admitted to school on 15-12-1999\"\n",
    "pattern = \"\\d{2}-\\d{2}-\\d{4}\"\n",
    "\n",
    "no = re.findall(pattern, string)\n",
    "print (no)"
   ]
  },
  {
   "cell_type": "code",
   "execution_count": 7,
   "metadata": {},
   "outputs": [
    {
     "name": "stdout",
     "output_type": "stream",
     "text": [
      "Ron was born on Monday and he was admitted to school on Monday\n"
     ]
    }
   ],
   "source": [
    "print (re.sub(pattern, \"Monday\", string)) # sub is for replace the specified "
   ]
  }
 ],
 "metadata": {
  "kernelspec": {
   "display_name": "Python 3",
   "language": "python",
   "name": "python3"
  },
  "language_info": {
   "codemirror_mode": {
    "name": "ipython",
    "version": 3
   },
   "file_extension": ".py",
   "mimetype": "text/x-python",
   "name": "python",
   "nbconvert_exporter": "python",
   "pygments_lexer": "ipython3",
   "version": "3.7.6"
  }
 },
 "nbformat": 4,
 "nbformat_minor": 2
}
