{
 "cells": [
  {
   "cell_type": "code",
   "execution_count": 1,
   "metadata": {},
   "outputs": [],
   "source": [
    "import pandas as pd\n",
    "import pandas as np"
   ]
  },
  {
   "cell_type": "code",
   "execution_count": 2,
   "metadata": {},
   "outputs": [
    {
     "data": {
      "text/plain": [
       "0    1\n",
       "1    2\n",
       "2    3\n",
       "3    4\n",
       "4    5\n",
       "dtype: int64"
      ]
     },
     "execution_count": 2,
     "metadata": {},
     "output_type": "execute_result"
    }
   ],
   "source": [
    "y=pd.Series([1,2,3,4,5])\n",
    "y"
   ]
  },
  {
   "cell_type": "code",
   "execution_count": 3,
   "metadata": {},
   "outputs": [],
   "source": [
    "x=pd.Series([1,2,3,4,5])"
   ]
  },
  {
   "cell_type": "code",
   "execution_count": 4,
   "metadata": {},
   "outputs": [
    {
     "data": {
      "text/plain": [
       "0    1\n",
       "1    2\n",
       "2    3\n",
       "3    4\n",
       "4    5\n",
       "dtype: int64"
      ]
     },
     "execution_count": 4,
     "metadata": {},
     "output_type": "execute_result"
    }
   ],
   "source": [
    "x"
   ]
  },
  {
   "cell_type": "code",
   "execution_count": 5,
   "metadata": {},
   "outputs": [
    {
     "data": {
      "text/plain": [
       "11    1.0\n",
       "12    2.0\n",
       "13    3.0\n",
       "14    4.0\n",
       "15    5.0\n",
       "dtype: float64"
      ]
     },
     "execution_count": 5,
     "metadata": {},
     "output_type": "execute_result"
    }
   ],
   "source": [
    "# Series(data,index,dtype)\n",
    "\n",
    "s = pd.Series([1,2,3,4,5],index=[11,12,13,14,15],dtype=float)\n",
    "s"
   ]
  },
  {
   "cell_type": "code",
   "execution_count": 6,
   "metadata": {},
   "outputs": [
    {
     "name": "stdout",
     "output_type": "stream",
     "text": [
      "20\n"
     ]
    }
   ],
   "source": [
    "# accessing data from Series\n",
    "s=pd.Series([20,34,39,42,59])\n",
    "print(s[0])"
   ]
  },
  {
   "cell_type": "code",
   "execution_count": 7,
   "metadata": {},
   "outputs": [
    {
     "data": {
      "text/plain": [
       "42"
      ]
     },
     "execution_count": 7,
     "metadata": {},
     "output_type": "execute_result"
    }
   ],
   "source": [
    "s[3]"
   ]
  },
  {
   "cell_type": "code",
   "execution_count": 8,
   "metadata": {},
   "outputs": [
    {
     "name": "stdout",
     "output_type": "stream",
     "text": [
      "0    10\n",
      "1    20\n",
      "2    30\n",
      "dtype: int64\n"
     ]
    }
   ],
   "source": [
    "# retrieve first three elements\n",
    "s=pd.Series([10,20,30,40,50,60,70,80])\n",
    "print(s[0:3])"
   ]
  },
  {
   "cell_type": "code",
   "execution_count": 9,
   "metadata": {},
   "outputs": [
    {
     "data": {
      "text/plain": [
       "0    1\n",
       "1    2\n",
       "2    3\n",
       "3    4\n",
       "dtype: int32"
      ]
     },
     "execution_count": 9,
     "metadata": {},
     "output_type": "execute_result"
    }
   ],
   "source": [
    "#passing data from list\n",
    "data=np.array([1,2,3,4])\n",
    "m=pd.Series(data)\n",
    "m"
   ]
  },
  {
   "cell_type": "code",
   "execution_count": 10,
   "metadata": {},
   "outputs": [],
   "source": [
    "demodict = {'Name':'X','Age':12}\n",
    "s1 = pd.Series(demodict)"
   ]
  },
  {
   "cell_type": "code",
   "execution_count": 11,
   "metadata": {},
   "outputs": [
    {
     "data": {
      "text/plain": [
       "Name     X\n",
       "Age     12\n",
       "dtype: object"
      ]
     },
     "execution_count": 11,
     "metadata": {},
     "output_type": "execute_result"
    }
   ],
   "source": [
    "s1"
   ]
  },
  {
   "cell_type": "markdown",
   "metadata": {},
   "source": [
    "#Task  create one dictionary object with cricketer name and run and pass it to pandas series print"
   ]
  },
  {
   "cell_type": "code",
   "execution_count": 12,
   "metadata": {},
   "outputs": [
    {
     "data": {
      "text/plain": [
       "{'name': 'virat', 'runs': 243, 'innings': 3, 'balls': 56}"
      ]
     },
     "execution_count": 12,
     "metadata": {},
     "output_type": "execute_result"
    }
   ],
   "source": [
    "ckr = {'name' : 'virat' , 'runs' : 243, 'innings' : 3, 'balls': 56}\n",
    "ckr"
   ]
  },
  {
   "cell_type": "code",
   "execution_count": 13,
   "metadata": {
    "scrolled": true
   },
   "outputs": [
    {
     "data": {
      "text/plain": [
       "name       virat\n",
       "runs         243\n",
       "innings        3\n",
       "balls         56\n",
       "dtype: object"
      ]
     },
     "execution_count": 13,
     "metadata": {},
     "output_type": "execute_result"
    }
   ],
   "source": [
    "s2 = pd.Series(ckr)\n",
    "s2"
   ]
  },
  {
   "cell_type": "markdown",
   "metadata": {},
   "source": [
    "Python Pandas - DATAFRAME"
   ]
  },
  {
   "cell_type": "markdown",
   "metadata": {},
   "source": [
    "A pandas Dataframe can be created using the following constructor-\n",
    "\n",
    "pandas.DataFrame(data,index,columns,dtype,copy)"
   ]
  },
  {
   "cell_type": "code",
   "execution_count": 14,
   "metadata": {},
   "outputs": [
    {
     "data": {
      "text/html": [
       "<div>\n",
       "<style scoped>\n",
       "    .dataframe tbody tr th:only-of-type {\n",
       "        vertical-align: middle;\n",
       "    }\n",
       "\n",
       "    .dataframe tbody tr th {\n",
       "        vertical-align: top;\n",
       "    }\n",
       "\n",
       "    .dataframe thead th {\n",
       "        text-align: right;\n",
       "    }\n",
       "</style>\n",
       "<table border=\"1\" class=\"dataframe\">\n",
       "  <thead>\n",
       "    <tr style=\"text-align: right;\">\n",
       "      <th></th>\n",
       "      <th>0</th>\n",
       "    </tr>\n",
       "  </thead>\n",
       "  <tbody>\n",
       "    <tr>\n",
       "      <td>0</td>\n",
       "      <td>1</td>\n",
       "    </tr>\n",
       "    <tr>\n",
       "      <td>1</td>\n",
       "      <td>2</td>\n",
       "    </tr>\n",
       "    <tr>\n",
       "      <td>2</td>\n",
       "      <td>3</td>\n",
       "    </tr>\n",
       "    <tr>\n",
       "      <td>3</td>\n",
       "      <td>4</td>\n",
       "    </tr>\n",
       "  </tbody>\n",
       "</table>\n",
       "</div>"
      ],
      "text/plain": [
       "   0\n",
       "0  1\n",
       "1  2\n",
       "2  3\n",
       "3  4"
      ]
     },
     "execution_count": 14,
     "metadata": {},
     "output_type": "execute_result"
    }
   ],
   "source": [
    "\n",
    "data = [1,2,3,4]\n",
    "df=pd.DataFrame(data)\n",
    "df"
   ]
  },
  {
   "cell_type": "code",
   "execution_count": 15,
   "metadata": {},
   "outputs": [
    {
     "data": {
      "text/html": [
       "<div>\n",
       "<style scoped>\n",
       "    .dataframe tbody tr th:only-of-type {\n",
       "        vertical-align: middle;\n",
       "    }\n",
       "\n",
       "    .dataframe tbody tr th {\n",
       "        vertical-align: top;\n",
       "    }\n",
       "\n",
       "    .dataframe thead th {\n",
       "        text-align: right;\n",
       "    }\n",
       "</style>\n",
       "<table border=\"1\" class=\"dataframe\">\n",
       "  <thead>\n",
       "    <tr style=\"text-align: right;\">\n",
       "      <th></th>\n",
       "      <th>0</th>\n",
       "      <th>1</th>\n",
       "    </tr>\n",
       "  </thead>\n",
       "  <tbody>\n",
       "    <tr>\n",
       "      <td>0</td>\n",
       "      <td>Alex</td>\n",
       "      <td>10</td>\n",
       "    </tr>\n",
       "    <tr>\n",
       "      <td>1</td>\n",
       "      <td>Bob</td>\n",
       "      <td>12</td>\n",
       "    </tr>\n",
       "    <tr>\n",
       "      <td>2</td>\n",
       "      <td>Clarke</td>\n",
       "      <td>13</td>\n",
       "    </tr>\n",
       "  </tbody>\n",
       "</table>\n",
       "</div>"
      ],
      "text/plain": [
       "        0   1\n",
       "0    Alex  10\n",
       "1     Bob  12\n",
       "2  Clarke  13"
      ]
     },
     "execution_count": 15,
     "metadata": {},
     "output_type": "execute_result"
    }
   ],
   "source": [
    "data=[['Alex',10],['Bob',12],['Clarke',13]]\n",
    "df=pd.DataFrame(data)\n",
    "df"
   ]
  },
  {
   "cell_type": "code",
   "execution_count": 16,
   "metadata": {},
   "outputs": [
    {
     "name": "stdout",
     "output_type": "stream",
     "text": [
      "     Name  Age\n",
      "0    Alex   10\n",
      "1     Bob   12\n",
      "2  Clarke   13\n"
     ]
    }
   ],
   "source": [
    "data = [['Alex',10],['Bob',12],['Clarke',13]]\n",
    "df = pd.DataFrame(data,columns=['Name','Age'])\n",
    "print (df)"
   ]
  },
  {
   "cell_type": "code",
   "execution_count": 17,
   "metadata": {},
   "outputs": [
    {
     "name": "stdout",
     "output_type": "stream",
     "text": [
      "     Name   Age\n",
      "0    Alex  10.0\n",
      "1     Bob  12.0\n",
      "2  Clarke  13.0\n"
     ]
    }
   ],
   "source": [
    "data = [['Alex',10],['Bob',12],['Clarke',13]]\n",
    "df = pd.DataFrame(data,columns=['Name','Age'],dtype=float)\n",
    "print(df)"
   ]
  },
  {
   "cell_type": "code",
   "execution_count": 18,
   "metadata": {},
   "outputs": [
    {
     "name": "stdout",
     "output_type": "stream",
     "text": [
      "    Name  Age\n",
      "0    Tom   28\n",
      "1   Jack   34\n",
      "2  Steve   29\n",
      "3  Ricky   42\n"
     ]
    }
   ],
   "source": [
    "data = {'Name':['Tom', 'Jack', 'Steve', 'Ricky'],'Age':[28,34,29,42]}\n",
    "df = pd.DataFrame(data)\n",
    "print (df)"
   ]
  },
  {
   "cell_type": "code",
   "execution_count": 19,
   "metadata": {},
   "outputs": [
    {
     "name": "stdout",
     "output_type": "stream",
     "text": [
      "     a     b     c\n",
      "0  1.0   2.0   NaN\n",
      "1  5.0  10.0  20.0\n"
     ]
    }
   ],
   "source": [
    "#Note - Observe, NON (Not a Number) is appended in missing areas.\n",
    "data = [{'a': 1, 'b': 2},{'a': 5, 'b': 10, 'c': 20}]\n",
    "df = pd.DataFrame(data,dtype=float)\n",
    "print (df)"
   ]
  },
  {
   "cell_type": "code",
   "execution_count": 20,
   "metadata": {},
   "outputs": [
    {
     "name": "stdout",
     "output_type": "stream",
     "text": [
      "          a     b     c\n",
      "first   1.0   2.0   NaN\n",
      "second  5.0  10.0  20.0\n"
     ]
    }
   ],
   "source": [
    "data = [{'a': 1, 'b': 2},{'a': 5, 'b': 10, 'c': 20}]\n",
    "df = pd.DataFrame(data, index=['first', 'second'],dtype=float)\n",
    "print (df)"
   ]
  },
  {
   "cell_type": "code",
   "execution_count": 21,
   "metadata": {},
   "outputs": [],
   "source": [
    "import pandas as pd\n",
    "import numpy as np"
   ]
  },
  {
   "cell_type": "code",
   "execution_count": 22,
   "metadata": {},
   "outputs": [
    {
     "data": {
      "text/plain": [
       "0    1.0\n",
       "1    2.0\n",
       "2    3.0\n",
       "dtype: float64"
      ]
     },
     "execution_count": 22,
     "metadata": {},
     "output_type": "execute_result"
    }
   ],
   "source": [
    "s = pd.Series((1,2,3),dtype=float)\n",
    "s"
   ]
  },
  {
   "cell_type": "code",
   "execution_count": 23,
   "metadata": {},
   "outputs": [
    {
     "data": {
      "text/plain": [
       "Name     X\n",
       "Age     12\n",
       "dtype: object"
      ]
     },
     "execution_count": 23,
     "metadata": {},
     "output_type": "execute_result"
    }
   ],
   "source": [
    "demodict = {'Name':'X','Age':12}\n",
    "s1 = pd.Series(demodict)\n",
    "s1"
   ]
  },
  {
   "cell_type": "code",
   "execution_count": 24,
   "metadata": {},
   "outputs": [
    {
     "name": "stdout",
     "output_type": "stream",
     "text": [
      "   a  b\n",
      "0  1  2\n",
      "1  3  4\n",
      "0  5  6\n",
      "1  7  8\n"
     ]
    }
   ],
   "source": [
    "#Addition of Rows\n",
    "#Add new rows to a DataFrame using the append function. This function will append the rows at the end.\n",
    "df = pd.DataFrame([[1, 2], [3, 4]], columns = ['a','b'])\n",
    "df2 = pd.DataFrame([[5, 6], [7, 8]], columns = ['a','b'])\n",
    "\n",
    "df = df.append(df2)\n",
    "print (df)"
   ]
  },
  {
   "cell_type": "markdown",
   "metadata": {},
   "source": [
    ".loc() Pandas provide various methods to have purely label based indexing."
   ]
  },
  {
   "cell_type": "code",
   "execution_count": 25,
   "metadata": {},
   "outputs": [
    {
     "data": {
      "text/html": [
       "<div>\n",
       "<style scoped>\n",
       "    .dataframe tbody tr th:only-of-type {\n",
       "        vertical-align: middle;\n",
       "    }\n",
       "\n",
       "    .dataframe tbody tr th {\n",
       "        vertical-align: top;\n",
       "    }\n",
       "\n",
       "    .dataframe thead th {\n",
       "        text-align: right;\n",
       "    }\n",
       "</style>\n",
       "<table border=\"1\" class=\"dataframe\">\n",
       "  <thead>\n",
       "    <tr style=\"text-align: right;\">\n",
       "      <th></th>\n",
       "      <th>A</th>\n",
       "      <th>B</th>\n",
       "      <th>C</th>\n",
       "      <th>D</th>\n",
       "    </tr>\n",
       "  </thead>\n",
       "  <tbody>\n",
       "    <tr>\n",
       "      <td>a</td>\n",
       "      <td>0.826187</td>\n",
       "      <td>-0.346086</td>\n",
       "      <td>-0.490693</td>\n",
       "      <td>-0.695959</td>\n",
       "    </tr>\n",
       "    <tr>\n",
       "      <td>b</td>\n",
       "      <td>0.229856</td>\n",
       "      <td>-0.674934</td>\n",
       "      <td>1.425753</td>\n",
       "      <td>1.380330</td>\n",
       "    </tr>\n",
       "    <tr>\n",
       "      <td>c</td>\n",
       "      <td>-1.485233</td>\n",
       "      <td>1.549788</td>\n",
       "      <td>-0.588919</td>\n",
       "      <td>0.964504</td>\n",
       "    </tr>\n",
       "    <tr>\n",
       "      <td>d</td>\n",
       "      <td>-0.563662</td>\n",
       "      <td>1.692544</td>\n",
       "      <td>-0.098730</td>\n",
       "      <td>1.276569</td>\n",
       "    </tr>\n",
       "    <tr>\n",
       "      <td>e</td>\n",
       "      <td>0.987347</td>\n",
       "      <td>2.492531</td>\n",
       "      <td>1.209564</td>\n",
       "      <td>1.207858</td>\n",
       "    </tr>\n",
       "    <tr>\n",
       "      <td>f</td>\n",
       "      <td>1.320890</td>\n",
       "      <td>0.276919</td>\n",
       "      <td>0.034869</td>\n",
       "      <td>1.359996</td>\n",
       "    </tr>\n",
       "    <tr>\n",
       "      <td>g</td>\n",
       "      <td>1.780197</td>\n",
       "      <td>-0.421522</td>\n",
       "      <td>0.452276</td>\n",
       "      <td>0.211618</td>\n",
       "    </tr>\n",
       "    <tr>\n",
       "      <td>h</td>\n",
       "      <td>0.952769</td>\n",
       "      <td>0.860300</td>\n",
       "      <td>-0.269415</td>\n",
       "      <td>-0.528921</td>\n",
       "    </tr>\n",
       "  </tbody>\n",
       "</table>\n",
       "</div>"
      ],
      "text/plain": [
       "          A         B         C         D\n",
       "a  0.826187 -0.346086 -0.490693 -0.695959\n",
       "b  0.229856 -0.674934  1.425753  1.380330\n",
       "c -1.485233  1.549788 -0.588919  0.964504\n",
       "d -0.563662  1.692544 -0.098730  1.276569\n",
       "e  0.987347  2.492531  1.209564  1.207858\n",
       "f  1.320890  0.276919  0.034869  1.359996\n",
       "g  1.780197 -0.421522  0.452276  0.211618\n",
       "h  0.952769  0.860300 -0.269415 -0.528921"
      ]
     },
     "execution_count": 25,
     "metadata": {},
     "output_type": "execute_result"
    }
   ],
   "source": [
    "df=pd.DataFrame(np.random.randn(8,4),index=['a','b','c','d','e','f','g','h'],columns=['A','B','C','D'])\n",
    "df"
   ]
  },
  {
   "cell_type": "markdown",
   "metadata": {},
   "source": [
    "loc[rowstart rowend,'label or column name']"
   ]
  },
  {
   "cell_type": "code",
   "execution_count": 26,
   "metadata": {},
   "outputs": [
    {
     "name": "stdout",
     "output_type": "stream",
     "text": [
      "a    0.826187\n",
      "b    0.229856\n",
      "c   -1.485233\n",
      "d   -0.563662\n",
      "e    0.987347\n",
      "f    1.320890\n",
      "g    1.780197\n",
      "h    0.952769\n",
      "Name: A, dtype: float64\n"
     ]
    }
   ],
   "source": [
    "print(df.loc[:,'A'])"
   ]
  },
  {
   "cell_type": "code",
   "execution_count": 27,
   "metadata": {},
   "outputs": [
    {
     "name": "stdout",
     "output_type": "stream",
     "text": [
      "a   -0.695959\n",
      "b    1.380330\n",
      "c    0.964504\n",
      "d    1.276569\n",
      "e    1.207858\n",
      "f    1.359996\n",
      "g    0.211618\n",
      "h   -0.528921\n",
      "Name: D, dtype: float64\n"
     ]
    }
   ],
   "source": [
    "print(df.loc[:,'D'])"
   ]
  },
  {
   "cell_type": "markdown",
   "metadata": {},
   "source": [
    "df.loc[['indexname1,'indexname2'],[labelA,labelB]] as location will take label only, it will not work with indexing in numeric format"
   ]
  },
  {
   "cell_type": "code",
   "execution_count": 28,
   "metadata": {},
   "outputs": [
    {
     "name": "stdout",
     "output_type": "stream",
     "text": [
      "          A         C\n",
      "b  0.229856  1.425753\n",
      "c -1.485233 -0.588919\n",
      "e  0.987347  1.209564\n"
     ]
    }
   ],
   "source": [
    "print(df.loc[['b','c','e'],['A','C']])"
   ]
  },
  {
   "cell_type": "code",
   "execution_count": 29,
   "metadata": {},
   "outputs": [
    {
     "name": "stdout",
     "output_type": "stream",
     "text": [
      "          C         D\n",
      "a -0.490693 -0.695959\n",
      "b  1.425753  1.380330\n",
      "c -0.588919  0.964504\n",
      "d -0.098730  1.276569\n",
      "e  1.209564  1.207858\n",
      "f  0.034869  1.359996\n",
      "g  0.452276  0.211618\n",
      "h -0.269415 -0.528921\n"
     ]
    }
   ],
   "source": [
    "print(df.loc[:,['C','D']])"
   ]
  },
  {
   "cell_type": "markdown",
   "metadata": {},
   "source": [
    ".iloc() Pandas provide various methods in order to get purely integer based indexing Like python and numpy, these are 0-based indexing."
   ]
  },
  {
   "cell_type": "code",
   "execution_count": 30,
   "metadata": {},
   "outputs": [
    {
     "name": "stdout",
     "output_type": "stream",
     "text": [
      "          A         B         C         D\n",
      "0 -1.748572  0.652352 -0.700110  0.191917\n",
      "1  0.887807 -0.495312 -0.619217  0.403395\n",
      "2  0.292196 -0.196555 -0.249420 -1.549615\n",
      "3  0.101905 -0.327587  0.156669 -0.303442\n",
      "4 -0.189672  0.526201 -0.146166  1.781118\n",
      "5  0.139497  0.028001 -1.551199  0.884466\n",
      "6  0.180240 -1.100170  1.550915 -0.521562\n",
      "7 -0.636491  0.502134  0.066447  0.410683\n",
      "          A         B         C         D\n",
      "0 -1.748572  0.652352 -0.700110  0.191917\n",
      "1  0.887807 -0.495312 -0.619217  0.403395\n",
      "2  0.292196 -0.196555 -0.249420 -1.549615\n",
      "3  0.101905 -0.327587  0.156669 -0.303442\n"
     ]
    }
   ],
   "source": [
    "df=pd.DataFrame(np.random.randn(8,4),columns=['A','B','C','D'])\n",
    "\n",
    "print(df)\n",
    "\n",
    "print(df.iloc[:4])"
   ]
  },
  {
   "cell_type": "markdown",
   "metadata": {},
   "source": [
    "df.iloc[startrowindex:endrowindex,startcolumnindex:endcolumindex]"
   ]
  },
  {
   "cell_type": "code",
   "execution_count": 31,
   "metadata": {},
   "outputs": [
    {
     "name": "stdout",
     "output_type": "stream",
     "text": [
      "1   -0.495312\n",
      "2   -0.196555\n",
      "3   -0.327587\n",
      "4    0.526201\n",
      "Name: B, dtype: float64\n"
     ]
    }
   ],
   "source": [
    "print(df.iloc[1:5,1])"
   ]
  },
  {
   "cell_type": "code",
   "execution_count": 32,
   "metadata": {},
   "outputs": [
    {
     "data": {
      "text/html": [
       "<div>\n",
       "<style scoped>\n",
       "    .dataframe tbody tr th:only-of-type {\n",
       "        vertical-align: middle;\n",
       "    }\n",
       "\n",
       "    .dataframe tbody tr th {\n",
       "        vertical-align: top;\n",
       "    }\n",
       "\n",
       "    .dataframe thead th {\n",
       "        text-align: right;\n",
       "    }\n",
       "</style>\n",
       "<table border=\"1\" class=\"dataframe\">\n",
       "  <thead>\n",
       "    <tr style=\"text-align: right;\">\n",
       "      <th></th>\n",
       "      <th>A</th>\n",
       "      <th>B</th>\n",
       "      <th>C</th>\n",
       "      <th>D</th>\n",
       "    </tr>\n",
       "  </thead>\n",
       "  <tbody>\n",
       "    <tr>\n",
       "      <td>0</td>\n",
       "      <td>-1.748572</td>\n",
       "      <td>0.652352</td>\n",
       "      <td>-0.700110</td>\n",
       "      <td>0.191917</td>\n",
       "    </tr>\n",
       "    <tr>\n",
       "      <td>1</td>\n",
       "      <td>0.887807</td>\n",
       "      <td>-0.495312</td>\n",
       "      <td>-0.619217</td>\n",
       "      <td>0.403395</td>\n",
       "    </tr>\n",
       "    <tr>\n",
       "      <td>2</td>\n",
       "      <td>0.292196</td>\n",
       "      <td>-0.196555</td>\n",
       "      <td>-0.249420</td>\n",
       "      <td>-1.549615</td>\n",
       "    </tr>\n",
       "    <tr>\n",
       "      <td>3</td>\n",
       "      <td>0.101905</td>\n",
       "      <td>-0.327587</td>\n",
       "      <td>0.156669</td>\n",
       "      <td>-0.303442</td>\n",
       "    </tr>\n",
       "    <tr>\n",
       "      <td>4</td>\n",
       "      <td>-0.189672</td>\n",
       "      <td>0.526201</td>\n",
       "      <td>-0.146166</td>\n",
       "      <td>1.781118</td>\n",
       "    </tr>\n",
       "    <tr>\n",
       "      <td>5</td>\n",
       "      <td>0.139497</td>\n",
       "      <td>0.028001</td>\n",
       "      <td>-1.551199</td>\n",
       "      <td>0.884466</td>\n",
       "    </tr>\n",
       "    <tr>\n",
       "      <td>6</td>\n",
       "      <td>0.180240</td>\n",
       "      <td>-1.100170</td>\n",
       "      <td>1.550915</td>\n",
       "      <td>-0.521562</td>\n",
       "    </tr>\n",
       "    <tr>\n",
       "      <td>7</td>\n",
       "      <td>-0.636491</td>\n",
       "      <td>0.502134</td>\n",
       "      <td>0.066447</td>\n",
       "      <td>0.410683</td>\n",
       "    </tr>\n",
       "  </tbody>\n",
       "</table>\n",
       "</div>"
      ],
      "text/plain": [
       "          A         B         C         D\n",
       "0 -1.748572  0.652352 -0.700110  0.191917\n",
       "1  0.887807 -0.495312 -0.619217  0.403395\n",
       "2  0.292196 -0.196555 -0.249420 -1.549615\n",
       "3  0.101905 -0.327587  0.156669 -0.303442\n",
       "4 -0.189672  0.526201 -0.146166  1.781118\n",
       "5  0.139497  0.028001 -1.551199  0.884466\n",
       "6  0.180240 -1.100170  1.550915 -0.521562\n",
       "7 -0.636491  0.502134  0.066447  0.410683"
      ]
     },
     "execution_count": 32,
     "metadata": {},
     "output_type": "execute_result"
    }
   ],
   "source": [
    "df"
   ]
  },
  {
   "cell_type": "code",
   "execution_count": 33,
   "metadata": {},
   "outputs": [
    {
     "name": "stdout",
     "output_type": "stream",
     "text": [
      "2   -0.249420\n",
      "3    0.156669\n",
      "4   -0.146166\n",
      "5   -1.551199\n",
      "Name: C, dtype: float64\n"
     ]
    }
   ],
   "source": [
    "print(df.iloc[2:6,2])"
   ]
  },
  {
   "cell_type": "code",
   "execution_count": 34,
   "metadata": {},
   "outputs": [
    {
     "name": "stdout",
     "output_type": "stream",
     "text": [
      "0    0.191917\n",
      "1    0.403395\n",
      "2   -1.549615\n",
      "3   -0.303442\n",
      "4    1.781118\n",
      "5    0.884466\n",
      "6   -0.521562\n",
      "7    0.410683\n",
      "Name: D, dtype: float64\n"
     ]
    }
   ],
   "source": [
    "print(df.iloc[:,3])"
   ]
  },
  {
   "cell_type": "code",
   "execution_count": 35,
   "metadata": {},
   "outputs": [
    {
     "name": "stdout",
     "output_type": "stream",
     "text": [
      "3   -0.303442\n",
      "4    1.781118\n",
      "5    0.884466\n",
      "Name: D, dtype: float64\n"
     ]
    }
   ],
   "source": [
    "print(df.iloc[3:6,3])"
   ]
  },
  {
   "cell_type": "code",
   "execution_count": 36,
   "metadata": {},
   "outputs": [
    {
     "name": "stdout",
     "output_type": "stream",
     "text": [
      "          C         D\n",
      "1 -0.619217  0.403395\n",
      "2 -0.249420 -1.549615\n",
      "3  0.156669 -0.303442\n",
      "4 -0.146166  1.781118\n"
     ]
    }
   ],
   "source": [
    "print(df.iloc[1:5,2:4])    # 4 is exclusive"
   ]
  },
  {
   "cell_type": "code",
   "execution_count": 37,
   "metadata": {},
   "outputs": [
    {
     "name": "stdout",
     "output_type": "stream",
     "text": [
      "          B         D\n",
      "1 -0.495312  0.403395\n",
      "3 -0.327587 -0.303442\n",
      "5  0.028001  0.884466\n",
      "          A         B         C         D\n",
      "1  0.887807 -0.495312 -0.619217  0.403395\n",
      "2  0.292196 -0.196555 -0.249420 -1.549615\n",
      "          B         C\n",
      "0  0.652352 -0.700110\n",
      "1 -0.495312 -0.619217\n",
      "2 -0.196555 -0.249420\n",
      "3 -0.327587  0.156669\n",
      "4  0.526201 -0.146166\n",
      "5  0.028001 -1.551199\n",
      "6 -1.100170  1.550915\n",
      "7  0.502134  0.066447\n"
     ]
    }
   ],
   "source": [
    "print(df.iloc[[1,3,5],[1,3]])\n",
    "print(df.iloc[1:3,:])\n",
    "print(df.iloc[:,1:3])"
   ]
  },
  {
   "cell_type": "code",
   "execution_count": 38,
   "metadata": {},
   "outputs": [
    {
     "name": "stdout",
     "output_type": "stream",
     "text": [
      "0    0.191917\n",
      "1    0.403395\n",
      "2   -1.549615\n",
      "3   -0.303442\n",
      "4    1.781118\n",
      "5    0.884466\n",
      "6   -0.521562\n",
      "7    0.410683\n",
      "Name: D, dtype: float64\n"
     ]
    }
   ],
   "source": [
    "print(df.iloc[:,-1])"
   ]
  },
  {
   "cell_type": "code",
   "execution_count": 39,
   "metadata": {},
   "outputs": [
    {
     "name": "stdout",
     "output_type": "stream",
     "text": [
      "0    0.652352\n",
      "1   -0.495312\n",
      "2   -0.196555\n",
      "3   -0.327587\n",
      "4    0.526201\n",
      "5    0.028001\n",
      "6   -1.100170\n",
      "7    0.502134\n",
      "Name: B, dtype: float64\n"
     ]
    }
   ],
   "source": [
    "print(df.iloc[:,-3])"
   ]
  },
  {
   "cell_type": "code",
   "execution_count": 40,
   "metadata": {},
   "outputs": [
    {
     "name": "stdout",
     "output_type": "stream",
     "text": [
      "          B\n",
      "0  0.652352\n",
      "1 -0.495312\n",
      "2 -0.196555\n",
      "3 -0.327587\n",
      "4  0.526201\n",
      "5  0.028001\n",
      "6 -1.100170\n",
      "7  0.502134\n"
     ]
    }
   ],
   "source": [
    "print(df.iloc[:,-3:-2])"
   ]
  },
  {
   "cell_type": "code",
   "execution_count": 41,
   "metadata": {},
   "outputs": [
    {
     "name": "stdout",
     "output_type": "stream",
     "text": [
      "          B         C\n",
      "2 -0.196555 -0.249420\n",
      "3 -0.327587  0.156669\n",
      "4  0.526201 -0.146166\n"
     ]
    }
   ],
   "source": [
    "print(df.iloc[2:5,-3:-1])"
   ]
  }
 ],
 "metadata": {
  "kernelspec": {
   "display_name": "Python 3",
   "language": "python",
   "name": "python3"
  },
  "language_info": {
   "codemirror_mode": {
    "name": "ipython",
    "version": 3
   },
   "file_extension": ".py",
   "mimetype": "text/x-python",
   "name": "python",
   "nbconvert_exporter": "python",
   "pygments_lexer": "ipython3",
   "version": "3.7.4"
  }
 },
 "nbformat": 4,
 "nbformat_minor": 2
}
