{
  "nbformat": 4,
  "nbformat_minor": 0,
  "metadata": {
    "kernelspec": {
      "display_name": "Python 3",
      "language": "python",
      "name": "python3"
    },
    "language_info": {
      "codemirror_mode": {
        "name": "ipython",
        "version": 3
      },
      "file_extension": ".py",
      "mimetype": "text/x-python",
      "name": "python",
      "nbconvert_exporter": "python",
      "pygments_lexer": "ipython3",
      "version": "3.7.4"
    },
    "colab": {
      "name": "(2) PYTHON DATA STRUCTURES.ipynb",
      "provenance": []
    }
  },
  "cells": [
    {
      "cell_type": "markdown",
      "metadata": {
        "id": "ByVjIULwgb_D"
      },
      "source": [
        "Lists, which are called Arrays\n",
        "\n",
        "1.create a list=[]\n",
        "\n",
        "2.number list=[1,2,3]\n",
        "\n",
        "3.strings list=[\"spam\",\"eggs\",\"cheese\"]\n",
        "\n",
        "4.mixed list=[\"Hello\",[1,2,3],False]"
      ]
    },
    {
      "cell_type": "markdown",
      "metadata": {
        "id": "aDc9dMXHgogQ"
      },
      "source": [
        "Example\tData Type\tTry it\n",
        "\n",
        "x = \"Hello World\"\tstr\t\n",
        "x = 20\tint\t\n",
        "x = 20.5\tfloat\t\n",
        "x = 1j\tcomplex\t\n",
        "x = [\"apple\", \"banana\", \"cherry\"]\tlist\t\n",
        "x = (\"apple\", \"banana\", \"cherry\")\ttuple\t\n",
        "x = range(6)\trange\t\n",
        "x = {\"name\" : \"John\", \"age\" : 36}\tdict\t\n",
        "x = {\"apple\", \"banana\", \"cherry\"}\tset\t\n",
        "x = frozenset({\"apple\", \"banana\", \"cherry\"})\tfrozenset\t\n",
        "x = True\tbool\t\n",
        "x = b\"Hello\"\tbytes\t\n",
        "x = bytearray(5)\tbytearray"
      ]
    },
    {
      "cell_type": "code",
      "metadata": {
        "colab": {
          "base_uri": "https://localhost:8080/"
        },
        "id": "hYEs_UZXgb_K",
        "outputId": "9cdf890d-5d9e-4179-eefe-f843b655f914"
      },
      "source": [
        "creat_a_list=[1,2]\n",
        "creat_a_list"
      ],
      "execution_count": 1,
      "outputs": [
        {
          "output_type": "execute_result",
          "data": {
            "text/plain": [
              "[1, 2]"
            ]
          },
          "metadata": {
            "tags": []
          },
          "execution_count": 1
        }
      ]
    },
    {
      "cell_type": "code",
      "metadata": {
        "colab": {
          "base_uri": "https://localhost:8080/"
        },
        "id": "i7BHUovKgb_Q",
        "outputId": "bcf7b59b-bc84-4ec1-e827-ba25937e3427"
      },
      "source": [
        "list1=[1,2,3,4,5]\n",
        "list1"
      ],
      "execution_count": 2,
      "outputs": [
        {
          "output_type": "execute_result",
          "data": {
            "text/plain": [
              "[1, 2, 3, 4, 5]"
            ]
          },
          "metadata": {
            "tags": []
          },
          "execution_count": 2
        }
      ]
    },
    {
      "cell_type": "code",
      "metadata": {
        "colab": {
          "base_uri": "https://localhost:8080/"
        },
        "id": "JQnL-j0Agb_R",
        "outputId": "1a6a74c1-f25f-4a2d-dfcb-5b75d415f8f2"
      },
      "source": [
        "alist=[5,6,7,8]\n",
        "alist"
      ],
      "execution_count": 3,
      "outputs": [
        {
          "output_type": "execute_result",
          "data": {
            "text/plain": [
              "[5, 6, 7, 8]"
            ]
          },
          "metadata": {
            "tags": []
          },
          "execution_count": 3
        }
      ]
    },
    {
      "cell_type": "code",
      "metadata": {
        "colab": {
          "base_uri": "https://localhost:8080/"
        },
        "id": "7UYTadF6gb_T",
        "outputId": "7eaa8db3-5054-4068-f046-4115837fee3b"
      },
      "source": [
        "numbers_list=[1,2,3,400,500,45,90]\n",
        "numbers_list"
      ],
      "execution_count": 4,
      "outputs": [
        {
          "output_type": "execute_result",
          "data": {
            "text/plain": [
              "[1, 2, 3, 400, 500, 45, 90]"
            ]
          },
          "metadata": {
            "tags": []
          },
          "execution_count": 4
        }
      ]
    },
    {
      "cell_type": "code",
      "metadata": {
        "colab": {
          "base_uri": "https://localhost:8080/"
        },
        "id": "uZYeMAgFgb_V",
        "outputId": "31a2d5e2-f8b0-46ae-ee64-dc58ff002777"
      },
      "source": [
        "strings_list=[\"batman\",\"superman\",\"iron man\"]\n",
        "strings_list"
      ],
      "execution_count": 5,
      "outputs": [
        {
          "output_type": "execute_result",
          "data": {
            "text/plain": [
              "['batman', 'superman', 'iron man']"
            ]
          },
          "metadata": {
            "tags": []
          },
          "execution_count": 5
        }
      ]
    },
    {
      "cell_type": "code",
      "metadata": {
        "colab": {
          "base_uri": "https://localhost:8080/"
        },
        "id": "kI8jrZXvgb_W",
        "outputId": "e54a9da1-c432-4a8c-ae79-4ce380e5ee9b"
      },
      "source": [
        "mixed_list=[\"Hello\",\"world\",4,6,7,False]\n",
        "mixed_list"
      ],
      "execution_count": 6,
      "outputs": [
        {
          "output_type": "execute_result",
          "data": {
            "text/plain": [
              "['Hello', 'world', 4, 6, 7, False]"
            ]
          },
          "metadata": {
            "tags": []
          },
          "execution_count": 6
        }
      ]
    },
    {
      "cell_type": "code",
      "metadata": {
        "colab": {
          "base_uri": "https://localhost:8080/"
        },
        "id": "Vltl5MVigb_X",
        "outputId": "fd1ac34d-1788-46ac-99c4-685f6fbb6326"
      },
      "source": [
        "my_list=[\"orange\",\"red\",2,56,9]\n",
        "my_list"
      ],
      "execution_count": 7,
      "outputs": [
        {
          "output_type": "execute_result",
          "data": {
            "text/plain": [
              "['orange', 'red', 2, 56, 9]"
            ]
          },
          "metadata": {
            "tags": []
          },
          "execution_count": 7
        }
      ]
    },
    {
      "cell_type": "markdown",
      "metadata": {
        "id": "t7sTfpz2gb_Z"
      },
      "source": [
        "You can access elements from the list from either the beginning or end of the list:"
      ]
    },
    {
      "cell_type": "code",
      "metadata": {
        "colab": {
          "base_uri": "https://localhost:8080/"
        },
        "id": "zounudeRgb_a",
        "outputId": "bb915b96-d4cb-4029-e00b-4a448a24dfb5"
      },
      "source": [
        "numbers_list"
      ],
      "execution_count": 8,
      "outputs": [
        {
          "output_type": "execute_result",
          "data": {
            "text/plain": [
              "[1, 2, 3, 400, 500, 45, 90]"
            ]
          },
          "metadata": {
            "tags": []
          },
          "execution_count": 8
        }
      ]
    },
    {
      "cell_type": "code",
      "metadata": {
        "colab": {
          "base_uri": "https://localhost:8080/"
        },
        "id": "78PjOUxogb_b",
        "outputId": "a12585ca-3f4b-440a-f4c3-02add38a1b81"
      },
      "source": [
        "numbers_list[0]"
      ],
      "execution_count": 9,
      "outputs": [
        {
          "output_type": "execute_result",
          "data": {
            "text/plain": [
              "1"
            ]
          },
          "metadata": {
            "tags": []
          },
          "execution_count": 9
        }
      ]
    },
    {
      "cell_type": "code",
      "metadata": {
        "colab": {
          "base_uri": "https://localhost:8080/"
        },
        "id": "sxjMhsWtgb_c",
        "outputId": "15edc234-c91a-477b-de4f-a2f9cf9b382d"
      },
      "source": [
        "numbers_list[1]"
      ],
      "execution_count": 10,
      "outputs": [
        {
          "output_type": "execute_result",
          "data": {
            "text/plain": [
              "2"
            ]
          },
          "metadata": {
            "tags": []
          },
          "execution_count": 10
        }
      ]
    },
    {
      "cell_type": "code",
      "metadata": {
        "colab": {
          "base_uri": "https://localhost:8080/"
        },
        "id": "RrMGmVuzgb_d",
        "outputId": "eebe620b-3456-4958-ca61-1b591408e7a7"
      },
      "source": [
        "numbers_list[0:1]"
      ],
      "execution_count": 11,
      "outputs": [
        {
          "output_type": "execute_result",
          "data": {
            "text/plain": [
              "[1]"
            ]
          },
          "metadata": {
            "tags": []
          },
          "execution_count": 11
        }
      ]
    },
    {
      "cell_type": "code",
      "metadata": {
        "colab": {
          "base_uri": "https://localhost:8080/"
        },
        "id": "FmOQiTTFgb_e",
        "outputId": "c8a7931c-c3e2-469d-a15f-985f700020fa"
      },
      "source": [
        "numbers_list[0:3]"
      ],
      "execution_count": 12,
      "outputs": [
        {
          "output_type": "execute_result",
          "data": {
            "text/plain": [
              "[1, 2, 3]"
            ]
          },
          "metadata": {
            "tags": []
          },
          "execution_count": 12
        }
      ]
    },
    {
      "cell_type": "code",
      "metadata": {
        "colab": {
          "base_uri": "https://localhost:8080/"
        },
        "id": "piJEllt-gb_e",
        "outputId": "885187cb-39ea-49e5-99e9-321e9856aba7"
      },
      "source": [
        "numbers_list[0:4]"
      ],
      "execution_count": 13,
      "outputs": [
        {
          "output_type": "execute_result",
          "data": {
            "text/plain": [
              "[1, 2, 3, 400]"
            ]
          },
          "metadata": {
            "tags": []
          },
          "execution_count": 13
        }
      ]
    },
    {
      "cell_type": "code",
      "metadata": {
        "colab": {
          "base_uri": "https://localhost:8080/"
        },
        "id": "kPMrniERgb_h",
        "outputId": "e41d60de-f213-4591-e084-49c59efede11"
      },
      "source": [
        "my_list"
      ],
      "execution_count": 14,
      "outputs": [
        {
          "output_type": "execute_result",
          "data": {
            "text/plain": [
              "['orange', 'red', 2, 56, 9]"
            ]
          },
          "metadata": {
            "tags": []
          },
          "execution_count": 14
        }
      ]
    },
    {
      "cell_type": "code",
      "metadata": {
        "colab": {
          "base_uri": "https://localhost:8080/"
        },
        "id": "irNokcHtgb_j",
        "outputId": "5077f777-948e-41bf-e27c-d3006b5cd852"
      },
      "source": [
        "my_list[3]"
      ],
      "execution_count": 15,
      "outputs": [
        {
          "output_type": "execute_result",
          "data": {
            "text/plain": [
              "56"
            ]
          },
          "metadata": {
            "tags": []
          },
          "execution_count": 15
        }
      ]
    },
    {
      "cell_type": "code",
      "metadata": {
        "colab": {
          "base_uri": "https://localhost:8080/"
        },
        "id": "sLsa6Taigb_k",
        "outputId": "eb6970ab-2582-4e71-aacc-32f5b4e24e61"
      },
      "source": [
        "my_list[0:3]"
      ],
      "execution_count": 16,
      "outputs": [
        {
          "output_type": "execute_result",
          "data": {
            "text/plain": [
              "['orange', 'red', 2]"
            ]
          },
          "metadata": {
            "tags": []
          },
          "execution_count": 16
        }
      ]
    },
    {
      "cell_type": "code",
      "metadata": {
        "colab": {
          "base_uri": "https://localhost:8080/"
        },
        "id": "yqd5bQJ4gb_k",
        "outputId": "ecc8df2c-e787-4dd5-feff-7ca547d0a980"
      },
      "source": [
        "my_list[-1]"
      ],
      "execution_count": 17,
      "outputs": [
        {
          "output_type": "execute_result",
          "data": {
            "text/plain": [
              "9"
            ]
          },
          "metadata": {
            "tags": []
          },
          "execution_count": 17
        }
      ]
    },
    {
      "cell_type": "code",
      "metadata": {
        "colab": {
          "base_uri": "https://localhost:8080/"
        },
        "id": "dLxY9dKEgb_l",
        "outputId": "16278ed7-843e-4a0d-e711-f0762ed8a3a0"
      },
      "source": [
        "my_list[-4:-1]"
      ],
      "execution_count": 18,
      "outputs": [
        {
          "output_type": "execute_result",
          "data": {
            "text/plain": [
              "['red', 2, 56]"
            ]
          },
          "metadata": {
            "tags": []
          },
          "execution_count": 18
        }
      ]
    },
    {
      "cell_type": "markdown",
      "metadata": {
        "id": "-XRjkBYWgb_m"
      },
      "source": [
        "Negative indexes count from the last item backwards:"
      ]
    },
    {
      "cell_type": "code",
      "metadata": {
        "colab": {
          "base_uri": "https://localhost:8080/"
        },
        "id": "o9IydevCgb_n",
        "outputId": "347d38e3-a3a2-432f-d4db-d73563cb3c71"
      },
      "source": [
        "numbers_list"
      ],
      "execution_count": 19,
      "outputs": [
        {
          "output_type": "execute_result",
          "data": {
            "text/plain": [
              "[1, 2, 3, 400, 500, 45, 90]"
            ]
          },
          "metadata": {
            "tags": []
          },
          "execution_count": 19
        }
      ]
    },
    {
      "cell_type": "code",
      "metadata": {
        "colab": {
          "base_uri": "https://localhost:8080/"
        },
        "id": "kQGeUnIOgb_n",
        "outputId": "9b8eac77-ebe5-4c1d-8c61-08ae1ffaf32b"
      },
      "source": [
        "numbers_list[-1]"
      ],
      "execution_count": 20,
      "outputs": [
        {
          "output_type": "execute_result",
          "data": {
            "text/plain": [
              "90"
            ]
          },
          "metadata": {
            "tags": []
          },
          "execution_count": 20
        }
      ]
    },
    {
      "cell_type": "code",
      "metadata": {
        "colab": {
          "base_uri": "https://localhost:8080/"
        },
        "id": "9BZFq4Gagb_o",
        "outputId": "e0f28529-bdc3-42f5-874e-6c1662a22c74"
      },
      "source": [
        "numbers_list[-2]"
      ],
      "execution_count": 21,
      "outputs": [
        {
          "output_type": "execute_result",
          "data": {
            "text/plain": [
              "45"
            ]
          },
          "metadata": {
            "tags": []
          },
          "execution_count": 21
        }
      ]
    },
    {
      "cell_type": "code",
      "metadata": {
        "colab": {
          "base_uri": "https://localhost:8080/"
        },
        "id": "pPaO8F9hgb_o",
        "outputId": "1153671c-0f2a-4291-804e-6aad1817fa2c"
      },
      "source": [
        "numbers_list[-3]"
      ],
      "execution_count": 22,
      "outputs": [
        {
          "output_type": "execute_result",
          "data": {
            "text/plain": [
              "500"
            ]
          },
          "metadata": {
            "tags": []
          },
          "execution_count": 22
        }
      ]
    },
    {
      "cell_type": "code",
      "metadata": {
        "colab": {
          "base_uri": "https://localhost:8080/"
        },
        "id": "oivGlxU6gb_p",
        "outputId": "9a109d58-d99a-4004-b63b-8179ea80e734"
      },
      "source": [
        "numbers_list[-4]"
      ],
      "execution_count": 23,
      "outputs": [
        {
          "output_type": "execute_result",
          "data": {
            "text/plain": [
              "400"
            ]
          },
          "metadata": {
            "tags": []
          },
          "execution_count": 23
        }
      ]
    },
    {
      "cell_type": "markdown",
      "metadata": {
        "id": "fMER1HJ3gb_p"
      },
      "source": [
        "[start value is inclusive : stop value is exclusive]"
      ]
    },
    {
      "cell_type": "code",
      "metadata": {
        "colab": {
          "base_uri": "https://localhost:8080/"
        },
        "id": "GJ5eVL24gb_p",
        "outputId": "33a70255-8d67-4adf-8738-16884c488341"
      },
      "source": [
        "numbers_list"
      ],
      "execution_count": 24,
      "outputs": [
        {
          "output_type": "execute_result",
          "data": {
            "text/plain": [
              "[1, 2, 3, 400, 500, 45, 90]"
            ]
          },
          "metadata": {
            "tags": []
          },
          "execution_count": 24
        }
      ]
    },
    {
      "cell_type": "code",
      "metadata": {
        "colab": {
          "base_uri": "https://localhost:8080/"
        },
        "id": "QbPo4T2Dgb_q",
        "outputId": "0ee138e9-22ab-467d-842a-93c5403209c4"
      },
      "source": [
        "numbers_list[-4:-1]"
      ],
      "execution_count": 25,
      "outputs": [
        {
          "output_type": "execute_result",
          "data": {
            "text/plain": [
              "[400, 500, 45]"
            ]
          },
          "metadata": {
            "tags": []
          },
          "execution_count": 25
        }
      ]
    },
    {
      "cell_type": "code",
      "metadata": {
        "colab": {
          "base_uri": "https://localhost:8080/"
        },
        "id": "U4ZGObk4gb_q",
        "outputId": "69ccb5dd-cad7-4614-ff95-1c75fd033649"
      },
      "source": [
        "numbers_list[-4:-2]"
      ],
      "execution_count": 26,
      "outputs": [
        {
          "output_type": "execute_result",
          "data": {
            "text/plain": [
              "[400, 500]"
            ]
          },
          "metadata": {
            "tags": []
          },
          "execution_count": 26
        }
      ]
    },
    {
      "cell_type": "code",
      "metadata": {
        "colab": {
          "base_uri": "https://localhost:8080/"
        },
        "id": "7nHlSGJggb_r",
        "outputId": "64a3ee67-ffec-441f-b3bd-d1a9029eee6d"
      },
      "source": [
        "numbers_list[-3:-1]"
      ],
      "execution_count": 27,
      "outputs": [
        {
          "output_type": "execute_result",
          "data": {
            "text/plain": [
              "[500, 45]"
            ]
          },
          "metadata": {
            "tags": []
          },
          "execution_count": 27
        }
      ]
    },
    {
      "cell_type": "code",
      "metadata": {
        "colab": {
          "base_uri": "https://localhost:8080/"
        },
        "id": "-2LWncIvgb_r",
        "outputId": "9f5d50fd-0565-4794-9023-f7cfa40576f0"
      },
      "source": [
        "strings_list"
      ],
      "execution_count": 28,
      "outputs": [
        {
          "output_type": "execute_result",
          "data": {
            "text/plain": [
              "['batman', 'superman', 'iron man']"
            ]
          },
          "metadata": {
            "tags": []
          },
          "execution_count": 28
        }
      ]
    },
    {
      "cell_type": "code",
      "metadata": {
        "colab": {
          "base_uri": "https://localhost:8080/",
          "height": 35
        },
        "id": "GB7T7VWcgb_r",
        "outputId": "15157ed5-1c04-4bfc-ef5b-8a0c5fb606e2"
      },
      "source": [
        "strings_list[0]"
      ],
      "execution_count": 29,
      "outputs": [
        {
          "output_type": "execute_result",
          "data": {
            "application/vnd.google.colaboratory.intrinsic+json": {
              "type": "string"
            },
            "text/plain": [
              "'batman'"
            ]
          },
          "metadata": {
            "tags": []
          },
          "execution_count": 29
        }
      ]
    },
    {
      "cell_type": "code",
      "metadata": {
        "colab": {
          "base_uri": "https://localhost:8080/",
          "height": 35
        },
        "id": "TjrEVhxygb_s",
        "outputId": "f57527e3-5e63-461b-e92d-0ec027403aa1"
      },
      "source": [
        "strings_list[1]"
      ],
      "execution_count": 30,
      "outputs": [
        {
          "output_type": "execute_result",
          "data": {
            "application/vnd.google.colaboratory.intrinsic+json": {
              "type": "string"
            },
            "text/plain": [
              "'superman'"
            ]
          },
          "metadata": {
            "tags": []
          },
          "execution_count": 30
        }
      ]
    },
    {
      "cell_type": "code",
      "metadata": {
        "colab": {
          "base_uri": "https://localhost:8080/",
          "height": 35
        },
        "id": "kbWJTqjZgb_s",
        "outputId": "25adc898-51f2-4c3f-a165-b6f0bfa4d798"
      },
      "source": [
        "strings_list[2]"
      ],
      "execution_count": 31,
      "outputs": [
        {
          "output_type": "execute_result",
          "data": {
            "application/vnd.google.colaboratory.intrinsic+json": {
              "type": "string"
            },
            "text/plain": [
              "'iron man'"
            ]
          },
          "metadata": {
            "tags": []
          },
          "execution_count": 31
        }
      ]
    },
    {
      "cell_type": "code",
      "metadata": {
        "colab": {
          "base_uri": "https://localhost:8080/",
          "height": 35
        },
        "id": "qHdiNC3Ygb_t",
        "outputId": "6a4ffa34-6916-424e-eb35-919ad70fba12"
      },
      "source": [
        "strings_list[-1]"
      ],
      "execution_count": 32,
      "outputs": [
        {
          "output_type": "execute_result",
          "data": {
            "application/vnd.google.colaboratory.intrinsic+json": {
              "type": "string"
            },
            "text/plain": [
              "'iron man'"
            ]
          },
          "metadata": {
            "tags": []
          },
          "execution_count": 32
        }
      ]
    },
    {
      "cell_type": "code",
      "metadata": {
        "colab": {
          "base_uri": "https://localhost:8080/",
          "height": 35
        },
        "id": "LhOBGf_Rgb_t",
        "outputId": "62bd42f9-4ef3-4aa6-d933-fd64d335da5f"
      },
      "source": [
        "strings_list[-2]"
      ],
      "execution_count": 33,
      "outputs": [
        {
          "output_type": "execute_result",
          "data": {
            "application/vnd.google.colaboratory.intrinsic+json": {
              "type": "string"
            },
            "text/plain": [
              "'superman'"
            ]
          },
          "metadata": {
            "tags": []
          },
          "execution_count": 33
        }
      ]
    },
    {
      "cell_type": "code",
      "metadata": {
        "colab": {
          "base_uri": "https://localhost:8080/"
        },
        "id": "EiTZQRVDgb_t",
        "outputId": "267a12aa-d4a7-49f8-b0ae-ccc83ed1bfc8"
      },
      "source": [
        "strings_list[-3:-1]"
      ],
      "execution_count": 34,
      "outputs": [
        {
          "output_type": "execute_result",
          "data": {
            "text/plain": [
              "['batman', 'superman']"
            ]
          },
          "metadata": {
            "tags": []
          },
          "execution_count": 34
        }
      ]
    },
    {
      "cell_type": "code",
      "metadata": {
        "colab": {
          "base_uri": "https://localhost:8080/"
        },
        "id": "ldMeO8Kxgb_u",
        "outputId": "ce4332c5-3f2b-4a95-ccea-badc53006059"
      },
      "source": [
        "#Slicing in depth\n",
        "a = [10,20,30,40,50,60,70,80]\n",
        "# slicing  [start : stop :jump or skip]\n",
        "\n",
        "# [start: stop :jump]\n",
        "print(a[0:7:1])# IF THE JUMP VALUE IS 1 THEN WILL NOT BE SKIPPED ANY VALUE\n",
        "print(a[0:7:2])# IF THE JUMP VALUE IS 2 OR MORE THEN SKIP EQUAL VALUES\n",
        "print(a[0:7:3])\n",
        "print(a[7:0:-1])# IF THE JUMP VALUE IS -1 THEN WILL NOT BE EFFECTED SAME\n",
        "\n",
        "b = a[::2]# here jump value is not available so it will be taking entire list values and skipped by 2\n",
        "print(b)\n",
        "print(a[::3])# here jump value is not available so it will be taking entire list values and skipped by 3\n",
        "print(a[::-1])# here jump value is not available so it will be taking entire list values and skipped by -1\n"
      ],
      "execution_count": 35,
      "outputs": [
        {
          "output_type": "stream",
          "text": [
            "[10, 20, 30, 40, 50, 60, 70]\n",
            "[10, 30, 50, 70]\n",
            "[10, 40, 70]\n",
            "[80, 70, 60, 50, 40, 30, 20]\n",
            "[10, 30, 50, 70]\n",
            "[10, 40, 70]\n",
            "[80, 70, 60, 50, 40, 30, 20, 10]\n"
          ],
          "name": "stdout"
        }
      ]
    },
    {
      "cell_type": "markdown",
      "metadata": {
        "id": "pqXLYi8vgb_u"
      },
      "source": [
        "Manipulating lists\n",
        "\n",
        "Operators\n",
        "\n",
        "Lists can be concatenated:"
      ]
    },
    {
      "cell_type": "code",
      "metadata": {
        "colab": {
          "base_uri": "https://localhost:8080/"
        },
        "id": "ztSo3bBNgb_v",
        "outputId": "5022e620-a738-4a77-ac8a-434f2636d8dd"
      },
      "source": [
        "fruits=[\"apples\",\"grapes\",\"oranges\",\"banana\"]\n",
        "veggies=[\"corn\",\"kale\",\"mushrooms\"]\n",
        "grocery_list=fruits + veggies\n",
        "grocery_list"
      ],
      "execution_count": 36,
      "outputs": [
        {
          "output_type": "execute_result",
          "data": {
            "text/plain": [
              "['apples', 'grapes', 'oranges', 'banana', 'corn', 'kale', 'mushrooms']"
            ]
          },
          "metadata": {
            "tags": []
          },
          "execution_count": 36
        }
      ]
    },
    {
      "cell_type": "markdown",
      "metadata": {
        "id": "oGGVyzY6gb_v"
      },
      "source": [
        "TASK\n",
        "\n",
        "\n",
        "make a two list, one list holding the name of mobile names: Iphone,oppo,lava,blackberry.lg and second list holding the name of reliance,airtel,vodafone and concatenate them, see the whole list\n"
      ]
    },
    {
      "cell_type": "code",
      "metadata": {
        "colab": {
          "base_uri": "https://localhost:8080/"
        },
        "id": "SKWwPECVgb_w",
        "outputId": "4aab25ab-3ba9-455e-d9cc-e11fc84eabbd"
      },
      "source": [
        "mobile=[\"Iphone\",\"oppo\",\"lava\"]\n",
        "channel=[\"reliance\",\"airtel\",\"vodafone\"]\n",
        "total=mobile + channel\n",
        "total"
      ],
      "execution_count": 37,
      "outputs": [
        {
          "output_type": "execute_result",
          "data": {
            "text/plain": [
              "['Iphone', 'oppo', 'lava', 'reliance', 'airtel', 'vodafone']"
            ]
          },
          "metadata": {
            "tags": []
          },
          "execution_count": 37
        }
      ]
    },
    {
      "cell_type": "code",
      "metadata": {
        "colab": {
          "base_uri": "https://localhost:8080/"
        },
        "id": "KdYECCGkgb_x",
        "outputId": "a65477b2-d9ed-47c8-c5b8-0fc03c03fd84"
      },
      "source": [
        "numbers_list"
      ],
      "execution_count": 38,
      "outputs": [
        {
          "output_type": "execute_result",
          "data": {
            "text/plain": [
              "[1, 2, 3, 400, 500, 45, 90]"
            ]
          },
          "metadata": {
            "tags": []
          },
          "execution_count": 38
        }
      ]
    },
    {
      "cell_type": "code",
      "metadata": {
        "colab": {
          "base_uri": "https://localhost:8080/"
        },
        "id": "YN94XFA9gb_z",
        "outputId": "8afb5489-f24c-4490-963d-65201ab473aa"
      },
      "source": [
        "len(numbers_list)"
      ],
      "execution_count": 39,
      "outputs": [
        {
          "output_type": "execute_result",
          "data": {
            "text/plain": [
              "7"
            ]
          },
          "metadata": {
            "tags": []
          },
          "execution_count": 39
        }
      ]
    },
    {
      "cell_type": "markdown",
      "metadata": {
        "id": "7NU94RL9gb_0"
      },
      "source": [
        "TASK\n",
        "\n",
        "make a list cricketlist.give name of 5 players. once created see it. now add any number runs with each player see it access the list with following cricketlist[0:4],then cricketlist[2:7],then [3:6],then[-6:-2] at the end find length of the string using len function in this way u learned list using string/numbers we call it heterogeneous list as we can add many data type"
      ]
    },
    {
      "cell_type": "code",
      "metadata": {
        "id": "7tKRw3nKgb_0"
      },
      "source": [
        "#Hint\n",
        "#nameoflist=[\"Sachin\",8000,\"ghhh\",8888,\"ssss\",4333,]\n",
        "#nameoflist[0:4]"
      ],
      "execution_count": 40,
      "outputs": []
    },
    {
      "cell_type": "markdown",
      "metadata": {
        "id": "aieDGB2wgb_1"
      },
      "source": [
        "slice in list"
      ]
    },
    {
      "cell_type": "code",
      "metadata": {
        "colab": {
          "base_uri": "https://localhost:8080/"
        },
        "id": "BdijnMcMgb_1",
        "outputId": "df800860-3a0a-4fde-9847-990b702c160b"
      },
      "source": [
        "hello=[\"H\",\"e\",\"l\",\"l\",\"o\"]\n",
        "hello"
      ],
      "execution_count": 41,
      "outputs": [
        {
          "output_type": "execute_result",
          "data": {
            "text/plain": [
              "['H', 'e', 'l', 'l', 'o']"
            ]
          },
          "metadata": {
            "tags": []
          },
          "execution_count": 41
        }
      ]
    },
    {
      "cell_type": "code",
      "metadata": {
        "colab": {
          "base_uri": "https://localhost:8080/",
          "height": 35
        },
        "id": "xH1veex0gb_2",
        "outputId": "8620b07c-aba2-465e-88c6-17fecb5594cd"
      },
      "source": [
        "hello[2]"
      ],
      "execution_count": 42,
      "outputs": [
        {
          "output_type": "execute_result",
          "data": {
            "application/vnd.google.colaboratory.intrinsic+json": {
              "type": "string"
            },
            "text/plain": [
              "'l'"
            ]
          },
          "metadata": {
            "tags": []
          },
          "execution_count": 42
        }
      ]
    },
    {
      "cell_type": "code",
      "metadata": {
        "colab": {
          "base_uri": "https://localhost:8080/",
          "height": 35
        },
        "id": "habNC4Rvgb_2",
        "outputId": "d689a3ad-6f94-4884-ccbc-609df897c763"
      },
      "source": [
        "hello[3]"
      ],
      "execution_count": 43,
      "outputs": [
        {
          "output_type": "execute_result",
          "data": {
            "application/vnd.google.colaboratory.intrinsic+json": {
              "type": "string"
            },
            "text/plain": [
              "'l'"
            ]
          },
          "metadata": {
            "tags": []
          },
          "execution_count": 43
        }
      ]
    },
    {
      "cell_type": "code",
      "metadata": {
        "colab": {
          "base_uri": "https://localhost:8080/"
        },
        "id": "73Zwk9Q8gb_2",
        "outputId": "df2f8f8c-b95f-4454-da7f-1bf54f7da445"
      },
      "source": [
        "hello[0:2]"
      ],
      "execution_count": 44,
      "outputs": [
        {
          "output_type": "execute_result",
          "data": {
            "text/plain": [
              "['H', 'e']"
            ]
          },
          "metadata": {
            "tags": []
          },
          "execution_count": 44
        }
      ]
    },
    {
      "cell_type": "code",
      "metadata": {
        "colab": {
          "base_uri": "https://localhost:8080/"
        },
        "id": "rgUIrjAygb_3",
        "outputId": "da4228fe-8635-4de6-806e-5701bdf0d121"
      },
      "source": [
        "hello[1:4]"
      ],
      "execution_count": 45,
      "outputs": [
        {
          "output_type": "execute_result",
          "data": {
            "text/plain": [
              "['e', 'l', 'l']"
            ]
          },
          "metadata": {
            "tags": []
          },
          "execution_count": 45
        }
      ]
    },
    {
      "cell_type": "code",
      "metadata": {
        "colab": {
          "base_uri": "https://localhost:8080/",
          "height": 35
        },
        "id": "cjBpA3KDgb_3",
        "outputId": "2efcf33c-c63d-424e-c355-1041dcb3b56a"
      },
      "source": [
        "hello[-1]"
      ],
      "execution_count": 46,
      "outputs": [
        {
          "output_type": "execute_result",
          "data": {
            "application/vnd.google.colaboratory.intrinsic+json": {
              "type": "string"
            },
            "text/plain": [
              "'o'"
            ]
          },
          "metadata": {
            "tags": []
          },
          "execution_count": 46
        }
      ]
    },
    {
      "cell_type": "code",
      "metadata": {
        "colab": {
          "base_uri": "https://localhost:8080/",
          "height": 35
        },
        "id": "vUpBdLirgb_4",
        "outputId": "e4062f25-14d1-4443-a300-5bd1fc463b16"
      },
      "source": [
        "hello[-2]"
      ],
      "execution_count": 47,
      "outputs": [
        {
          "output_type": "execute_result",
          "data": {
            "application/vnd.google.colaboratory.intrinsic+json": {
              "type": "string"
            },
            "text/plain": [
              "'l'"
            ]
          },
          "metadata": {
            "tags": []
          },
          "execution_count": 47
        }
      ]
    },
    {
      "cell_type": "code",
      "metadata": {
        "colab": {
          "base_uri": "https://localhost:8080/"
        },
        "id": "A6K50ScXgb_4",
        "outputId": "742c0b44-4ab5-4d30-a814-0cfcc5d919cc"
      },
      "source": [
        "hello[2:5]"
      ],
      "execution_count": 48,
      "outputs": [
        {
          "output_type": "execute_result",
          "data": {
            "text/plain": [
              "['l', 'l', 'o']"
            ]
          },
          "metadata": {
            "tags": []
          },
          "execution_count": 48
        }
      ]
    },
    {
      "cell_type": "code",
      "metadata": {
        "colab": {
          "base_uri": "https://localhost:8080/"
        },
        "id": "PLHoI9-Cgb_4",
        "outputId": "77b9bc67-5e81-4c66-de87-9acfd0532462"
      },
      "source": [
        "hello[-4:-1]"
      ],
      "execution_count": 49,
      "outputs": [
        {
          "output_type": "execute_result",
          "data": {
            "text/plain": [
              "['e', 'l', 'l']"
            ]
          },
          "metadata": {
            "tags": []
          },
          "execution_count": 49
        }
      ]
    },
    {
      "cell_type": "markdown",
      "metadata": {
        "id": "2CDMQ0jJgb_5"
      },
      "source": [
        "list.append()-used to add a item to the end of a list"
      ]
    },
    {
      "cell_type": "code",
      "metadata": {
        "colab": {
          "base_uri": "https://localhost:8080/"
        },
        "id": "-BAlRL3Rgb_5",
        "outputId": "42ecea45-c574-4aa2-a54c-718bc08f094d"
      },
      "source": [
        "fruits=[\"apples\",\"grapes\",\"oranges\"]\n",
        "fruits.append(\"blueberries\")\n",
        "fruits.append(\"abc\")\n",
        "fruits"
      ],
      "execution_count": 50,
      "outputs": [
        {
          "output_type": "execute_result",
          "data": {
            "text/plain": [
              "['apples', 'grapes', 'oranges', 'blueberries', 'abc']"
            ]
          },
          "metadata": {
            "tags": []
          },
          "execution_count": 50
        }
      ]
    },
    {
      "cell_type": "markdown",
      "metadata": {
        "id": "6oWMprXLgb_5"
      },
      "source": [
        "list.sort()--sorting the list"
      ]
    },
    {
      "cell_type": "code",
      "metadata": {
        "colab": {
          "base_uri": "https://localhost:8080/"
        },
        "id": "CFssQlK7gb_6",
        "outputId": "25289e3f-eeae-4be5-dc14-747fe0ada1fd"
      },
      "source": [
        "fruits.sort()\n",
        "fruits"
      ],
      "execution_count": 51,
      "outputs": [
        {
          "output_type": "execute_result",
          "data": {
            "text/plain": [
              "['abc', 'apples', 'blueberries', 'grapes', 'oranges']"
            ]
          },
          "metadata": {
            "tags": []
          },
          "execution_count": 51
        }
      ]
    },
    {
      "cell_type": "markdown",
      "metadata": {
        "id": "fjnaJf9Ggb_6"
      },
      "source": [
        "list.pop()---given an index value, remove an element from the list"
      ]
    },
    {
      "cell_type": "code",
      "metadata": {
        "colab": {
          "base_uri": "https://localhost:8080/"
        },
        "id": "BIn1ac4wgb_6",
        "outputId": "268a5b1c-2156-4a94-ef98-c4e9da875046"
      },
      "source": [
        "numbers_list"
      ],
      "execution_count": 52,
      "outputs": [
        {
          "output_type": "execute_result",
          "data": {
            "text/plain": [
              "[1, 2, 3, 400, 500, 45, 90]"
            ]
          },
          "metadata": {
            "tags": []
          },
          "execution_count": 52
        }
      ]
    },
    {
      "cell_type": "code",
      "metadata": {
        "colab": {
          "base_uri": "https://localhost:8080/"
        },
        "id": "oZwrbNP2gb_7",
        "outputId": "1796aa40-5bef-40a0-d960-70d20bd3ef0d"
      },
      "source": [
        "numbers_list.pop(2)"
      ],
      "execution_count": 53,
      "outputs": [
        {
          "output_type": "execute_result",
          "data": {
            "text/plain": [
              "3"
            ]
          },
          "metadata": {
            "tags": []
          },
          "execution_count": 53
        }
      ]
    },
    {
      "cell_type": "code",
      "metadata": {
        "colab": {
          "base_uri": "https://localhost:8080/"
        },
        "id": "0IquOYFagb_7",
        "outputId": "38d7dc5f-83ef-43bc-a943-45aef6f06c6a"
      },
      "source": [
        "numbers_list"
      ],
      "execution_count": 54,
      "outputs": [
        {
          "output_type": "execute_result",
          "data": {
            "text/plain": [
              "[1, 2, 400, 500, 45, 90]"
            ]
          },
          "metadata": {
            "tags": []
          },
          "execution_count": 54
        }
      ]
    },
    {
      "cell_type": "markdown",
      "metadata": {
        "id": "zK_s5QClgb_7"
      },
      "source": [
        "List are mutable ie. it can be changed after creation"
      ]
    },
    {
      "cell_type": "code",
      "metadata": {
        "colab": {
          "base_uri": "https://localhost:8080/"
        },
        "id": "JkPtm5whgb_8",
        "outputId": "d5b110dd-f961-4b07-af46-e298ea33389f"
      },
      "source": [
        "x=[4,5,6,7,8]\n",
        "x"
      ],
      "execution_count": 55,
      "outputs": [
        {
          "output_type": "execute_result",
          "data": {
            "text/plain": [
              "[4, 5, 6, 7, 8]"
            ]
          },
          "metadata": {
            "tags": []
          },
          "execution_count": 55
        }
      ]
    },
    {
      "cell_type": "code",
      "metadata": {
        "colab": {
          "base_uri": "https://localhost:8080/"
        },
        "id": "qFBJ6Z9Mgb_8",
        "outputId": "e0d9fa0f-b1b0-48f3-f7cc-db165afe12ba"
      },
      "source": [
        "x[0]"
      ],
      "execution_count": 56,
      "outputs": [
        {
          "output_type": "execute_result",
          "data": {
            "text/plain": [
              "4"
            ]
          },
          "metadata": {
            "tags": []
          },
          "execution_count": 56
        }
      ]
    },
    {
      "cell_type": "code",
      "metadata": {
        "colab": {
          "base_uri": "https://localhost:8080/"
        },
        "id": "w9UW8V_kgb_8",
        "outputId": "e97df74e-5d3a-432c-e344-60260796c375"
      },
      "source": [
        "x[1]"
      ],
      "execution_count": 57,
      "outputs": [
        {
          "output_type": "execute_result",
          "data": {
            "text/plain": [
              "5"
            ]
          },
          "metadata": {
            "tags": []
          },
          "execution_count": 57
        }
      ]
    },
    {
      "cell_type": "code",
      "metadata": {
        "colab": {
          "base_uri": "https://localhost:8080/"
        },
        "id": "0Chnl7URgb_9",
        "outputId": "6dd404c4-5049-41ef-b0ad-bb3ed3ae7edf"
      },
      "source": [
        "#here value 5 will be changed into 72\n",
        "x[1]=72\n",
        "x"
      ],
      "execution_count": 58,
      "outputs": [
        {
          "output_type": "execute_result",
          "data": {
            "text/plain": [
              "[4, 72, 6, 7, 8]"
            ]
          },
          "metadata": {
            "tags": []
          },
          "execution_count": 58
        }
      ]
    },
    {
      "cell_type": "markdown",
      "metadata": {
        "id": "S2gce26Agb_9"
      },
      "source": [
        "Hence the list is changed(mutable)"
      ]
    },
    {
      "cell_type": "markdown",
      "metadata": {
        "id": "cGxfMxbcgb_9"
      },
      "source": [
        "TUPLES\n",
        "\n",
        "Tuples are similar to lists, but they are immutable-which means they cannot be changed after creation.\n",
        "\n",
        "Ex.\n",
        "1. tup1=('physics','chemistry',1997,2000);\n",
        "2. tup2=(1,2,3,4,5);\n",
        "3. tup3=(\"a\",\"b\",\"c\",\"d\");"
      ]
    },
    {
      "cell_type": "code",
      "metadata": {
        "colab": {
          "base_uri": "https://localhost:8080/"
        },
        "id": "7SDv1yuYgb_-",
        "outputId": "305bcdab-ce93-4bed-ce52-8ae0d5632987"
      },
      "source": [
        "my_tuple = (\"Michael\", \"Herman\", 31, \"Software Developer\")\n",
        "my_tuple"
      ],
      "execution_count": 59,
      "outputs": [
        {
          "output_type": "execute_result",
          "data": {
            "text/plain": [
              "('Michael', 'Herman', 31, 'Software Developer')"
            ]
          },
          "metadata": {
            "tags": []
          },
          "execution_count": 59
        }
      ]
    },
    {
      "cell_type": "code",
      "metadata": {
        "colab": {
          "base_uri": "https://localhost:8080/",
          "height": 35
        },
        "id": "FikJWPDxgb_-",
        "outputId": "6fa09049-3d3d-4de8-c596-86179a2a4770"
      },
      "source": [
        "my_tuple[1]"
      ],
      "execution_count": 60,
      "outputs": [
        {
          "output_type": "execute_result",
          "data": {
            "application/vnd.google.colaboratory.intrinsic+json": {
              "type": "string"
            },
            "text/plain": [
              "'Herman'"
            ]
          },
          "metadata": {
            "tags": []
          },
          "execution_count": 60
        }
      ]
    },
    {
      "cell_type": "code",
      "metadata": {
        "id": "Q2_7hjipgb_-"
      },
      "source": [
        "tuple1=(1,2,3,4)\n",
        "tuple2=(5,6,7,8)"
      ],
      "execution_count": 61,
      "outputs": []
    },
    {
      "cell_type": "code",
      "metadata": {
        "colab": {
          "base_uri": "https://localhost:8080/"
        },
        "id": "SDZ4y-U2gb__",
        "outputId": "123733a9-4709-461e-969b-1d375ce1d9b8"
      },
      "source": [
        "tuple3=tuple1+tuple2\n",
        "tuple3"
      ],
      "execution_count": 62,
      "outputs": [
        {
          "output_type": "execute_result",
          "data": {
            "text/plain": [
              "(1, 2, 3, 4, 5, 6, 7, 8)"
            ]
          },
          "metadata": {
            "tags": []
          },
          "execution_count": 62
        }
      ]
    },
    {
      "cell_type": "code",
      "metadata": {
        "colab": {
          "base_uri": "https://localhost:8080/"
        },
        "id": "LDGjJ2Oggb__",
        "outputId": "9a425f53-b10e-48d6-de7b-80f102138b83"
      },
      "source": [
        "# accessing the element\n",
        "tuple3[2]"
      ],
      "execution_count": 63,
      "outputs": [
        {
          "output_type": "execute_result",
          "data": {
            "text/plain": [
              "3"
            ]
          },
          "metadata": {
            "tags": []
          },
          "execution_count": 63
        }
      ]
    },
    {
      "cell_type": "code",
      "metadata": {
        "colab": {
          "base_uri": "https://localhost:8080/",
          "height": 180
        },
        "id": "NtENF-4Vgb__",
        "outputId": "545eee22-1c1b-4806-d417-8d7b3dc22f72"
      },
      "source": [
        "#tuple values can not be changed after creation (here we can see the error of typeerror)\n",
        "tuple3[2]=85"
      ],
      "execution_count": 98,
      "outputs": [
        {
          "output_type": "error",
          "ename": "TypeError",
          "evalue": "ignored",
          "traceback": [
            "\u001b[0;31m---------------------------------------------------------------------------\u001b[0m",
            "\u001b[0;31mTypeError\u001b[0m                                 Traceback (most recent call last)",
            "\u001b[0;32m<ipython-input-98-39fd94e872a5>\u001b[0m in \u001b[0;36m<module>\u001b[0;34m()\u001b[0m\n\u001b[1;32m      1\u001b[0m \u001b[0;31m#tuple values can not be changed after creation (here we can see the error of typeerror)\u001b[0m\u001b[0;34m\u001b[0m\u001b[0;34m\u001b[0m\u001b[0;34m\u001b[0m\u001b[0m\n\u001b[0;32m----> 2\u001b[0;31m \u001b[0mtuple3\u001b[0m\u001b[0;34m[\u001b[0m\u001b[0;36m2\u001b[0m\u001b[0;34m]\u001b[0m\u001b[0;34m=\u001b[0m\u001b[0;36m85\u001b[0m\u001b[0;34m\u001b[0m\u001b[0;34m\u001b[0m\u001b[0m\n\u001b[0m",
            "\u001b[0;31mTypeError\u001b[0m: 'tuple' object does not support item assignment"
          ]
        }
      ]
    },
    {
      "cell_type": "markdown",
      "metadata": {
        "id": "80XRB11pgcAA"
      },
      "source": [
        "Hence tuple does not support the changes after the creation. it is immutable."
      ]
    },
    {
      "cell_type": "code",
      "metadata": {
        "colab": {
          "base_uri": "https://localhost:8080/",
          "height": 35
        },
        "id": "oTXRVriqgcAA",
        "outputId": "62b741a9-05c1-412a-f14c-d601d1255179"
      },
      "source": [
        "# this a comment on it's own line\n",
        "# you create them with the hash symbol\n",
        "var = \"Hello\" # they can also be on the same line as code\n",
        "var"
      ],
      "execution_count": 65,
      "outputs": [
        {
          "output_type": "execute_result",
          "data": {
            "application/vnd.google.colaboratory.intrinsic+json": {
              "type": "string"
            },
            "text/plain": [
              "'Hello'"
            ]
          },
          "metadata": {
            "tags": []
          },
          "execution_count": 65
        }
      ]
    },
    {
      "cell_type": "markdown",
      "metadata": {
        "id": "pjXYSqTDgcAB"
      },
      "source": [
        "DICTIONARY"
      ]
    },
    {
      "cell_type": "code",
      "metadata": {
        "colab": {
          "base_uri": "https://localhost:8080/"
        },
        "id": "gOuIYmdtgcAB",
        "outputId": "725a9c01-2a90-4b47-df77-5b56948f464a"
      },
      "source": [
        "dict = {'Name': 'Zara', 'Age': 7, 'Class': 'First'}\n",
        "dict"
      ],
      "execution_count": 66,
      "outputs": [
        {
          "output_type": "execute_result",
          "data": {
            "text/plain": [
              "{'Age': 7, 'Class': 'First', 'Name': 'Zara'}"
            ]
          },
          "metadata": {
            "tags": []
          },
          "execution_count": 66
        }
      ]
    },
    {
      "cell_type": "code",
      "metadata": {
        "colab": {
          "base_uri": "https://localhost:8080/",
          "height": 35
        },
        "id": "GEvJgbE7gcAB",
        "outputId": "e554e2f4-247f-4b81-c9c4-ebc67c50671f"
      },
      "source": [
        "dict['Name']"
      ],
      "execution_count": 67,
      "outputs": [
        {
          "output_type": "execute_result",
          "data": {
            "application/vnd.google.colaboratory.intrinsic+json": {
              "type": "string"
            },
            "text/plain": [
              "'Zara'"
            ]
          },
          "metadata": {
            "tags": []
          },
          "execution_count": 67
        }
      ]
    },
    {
      "cell_type": "code",
      "metadata": {
        "colab": {
          "base_uri": "https://localhost:8080/"
        },
        "id": "FWn0kGAGgcAC",
        "outputId": "37d4b8bc-5840-4e34-a24d-552a82c01e37"
      },
      "source": [
        "print(dict['Age'])"
      ],
      "execution_count": 68,
      "outputs": [
        {
          "output_type": "stream",
          "text": [
            "7\n"
          ],
          "name": "stdout"
        }
      ]
    },
    {
      "cell_type": "code",
      "metadata": {
        "id": "KZXQQeKcgcAC"
      },
      "source": [
        "dict['Age']=10"
      ],
      "execution_count": 69,
      "outputs": []
    },
    {
      "cell_type": "code",
      "metadata": {
        "colab": {
          "base_uri": "https://localhost:8080/"
        },
        "id": "OYpEFfPQgcAC",
        "outputId": "9ee79776-b752-4cd3-9a46-d9954a65fc9e"
      },
      "source": [
        "dict"
      ],
      "execution_count": 70,
      "outputs": [
        {
          "output_type": "execute_result",
          "data": {
            "text/plain": [
              "{'Age': 10, 'Class': 'First', 'Name': 'Zara'}"
            ]
          },
          "metadata": {
            "tags": []
          },
          "execution_count": 70
        }
      ]
    },
    {
      "cell_type": "code",
      "metadata": {
        "colab": {
          "base_uri": "https://localhost:8080/"
        },
        "id": "6VwEhkqKgcAD",
        "outputId": "cacae802-8753-4bf1-ff83-a7a9012108cc"
      },
      "source": [
        "print(dict['Class'])"
      ],
      "execution_count": 71,
      "outputs": [
        {
          "output_type": "stream",
          "text": [
            "First\n"
          ],
          "name": "stdout"
        }
      ]
    },
    {
      "cell_type": "code",
      "metadata": {
        "colab": {
          "base_uri": "https://localhost:8080/"
        },
        "id": "85DM_6NngcAD",
        "outputId": "bdbf809a-2716-4632-c358-4e50590be045"
      },
      "source": [
        "print(\"dict['Name']:\",dict['Name'])"
      ],
      "execution_count": 72,
      "outputs": [
        {
          "output_type": "stream",
          "text": [
            "dict['Name']: Zara\n"
          ],
          "name": "stdout"
        }
      ]
    },
    {
      "cell_type": "code",
      "metadata": {
        "colab": {
          "base_uri": "https://localhost:8080/"
        },
        "id": "dG2d7wiNgcAD",
        "outputId": "4fba9aac-86ab-4080-d070-e034495c137c"
      },
      "source": [
        "len(dict)"
      ],
      "execution_count": 73,
      "outputs": [
        {
          "output_type": "execute_result",
          "data": {
            "text/plain": [
              "3"
            ]
          },
          "metadata": {
            "tags": []
          },
          "execution_count": 73
        }
      ]
    },
    {
      "cell_type": "code",
      "metadata": {
        "colab": {
          "base_uri": "https://localhost:8080/"
        },
        "id": "cLhnm1SugcAE",
        "outputId": "25e07b47-ad55-4d76-b5a5-8c527701eb63"
      },
      "source": [
        "dict.keys()"
      ],
      "execution_count": 74,
      "outputs": [
        {
          "output_type": "execute_result",
          "data": {
            "text/plain": [
              "dict_keys(['Name', 'Age', 'Class'])"
            ]
          },
          "metadata": {
            "tags": []
          },
          "execution_count": 74
        }
      ]
    },
    {
      "cell_type": "code",
      "metadata": {
        "colab": {
          "base_uri": "https://localhost:8080/"
        },
        "id": "IzauMzQ_gcAF",
        "outputId": "cf307b19-f9d8-4143-a31b-f3017de83753"
      },
      "source": [
        "dict.values()"
      ],
      "execution_count": 75,
      "outputs": [
        {
          "output_type": "execute_result",
          "data": {
            "text/plain": [
              "dict_values(['Zara', 10, 'First'])"
            ]
          },
          "metadata": {
            "tags": []
          },
          "execution_count": 75
        }
      ]
    },
    {
      "cell_type": "code",
      "metadata": {
        "colab": {
          "base_uri": "https://localhost:8080/"
        },
        "id": "dB0YyYBagcAF",
        "outputId": "7e7e621b-58a3-4bc3-9d55-46f9a2091f07"
      },
      "source": [
        "dict.items()"
      ],
      "execution_count": 76,
      "outputs": [
        {
          "output_type": "execute_result",
          "data": {
            "text/plain": [
              "dict_items([('Name', 'Zara'), ('Age', 10), ('Class', 'First')])"
            ]
          },
          "metadata": {
            "tags": []
          },
          "execution_count": 76
        }
      ]
    },
    {
      "cell_type": "code",
      "metadata": {
        "colab": {
          "base_uri": "https://localhost:8080/"
        },
        "id": "zvumUjkLgcAF",
        "outputId": "f167fe1b-fcdc-4bfb-f0ce-f0ecf8aae27f"
      },
      "source": [
        "# Adding a new key value pair\n",
        "\n",
        "dict.update({'Fee':5000})\n",
        "dict"
      ],
      "execution_count": 77,
      "outputs": [
        {
          "output_type": "execute_result",
          "data": {
            "text/plain": [
              "{'Age': 10, 'Class': 'First', 'Fee': 5000, 'Name': 'Zara'}"
            ]
          },
          "metadata": {
            "tags": []
          },
          "execution_count": 77
        }
      ]
    },
    {
      "cell_type": "code",
      "metadata": {
        "colab": {
          "base_uri": "https://localhost:8080/"
        },
        "id": "6cWhoV1FgcAG",
        "outputId": "5312982c-5cee-485d-e9bb-d67087275d38"
      },
      "source": [
        "# Updating existing key's value\n",
        "dict['Fee']= 9500\n",
        "\n",
        "print(dict)"
      ],
      "execution_count": 78,
      "outputs": [
        {
          "output_type": "stream",
          "text": [
            "{'Name': 'Zara', 'Age': 10, 'Class': 'First', 'Fee': 9500}\n"
          ],
          "name": "stdout"
        }
      ]
    },
    {
      "cell_type": "markdown",
      "metadata": {
        "id": "2esrqwlggcAH"
      },
      "source": [
        "Make a dictionary naming colordict with key-value pair\n",
        "\n",
        "rock:brown\n",
        "\n",
        "trees:green\n",
        "\n",
        "apple:red\n",
        "\n",
        "banana:yellow\n",
        "\n",
        "   and then print it"
      ]
    },
    {
      "cell_type": "code",
      "metadata": {
        "colab": {
          "base_uri": "https://localhost:8080/"
        },
        "id": "xHy1nFEwgcAI",
        "outputId": "ce5e6bc1-abac-4419-ec85-43ccce9d25fe"
      },
      "source": [
        "colordict={'rock':'brown','trees':'green','apple':'red','banana':'yellow'}\n",
        "print(colordict)"
      ],
      "execution_count": 79,
      "outputs": [
        {
          "output_type": "stream",
          "text": [
            "{'rock': 'brown', 'trees': 'green', 'apple': 'red', 'banana': 'yellow'}\n"
          ],
          "name": "stdout"
        }
      ]
    },
    {
      "cell_type": "markdown",
      "metadata": {
        "id": "YkTJo3M4gcAJ"
      },
      "source": [
        "Enhanched operation in Dictionary"
      ]
    },
    {
      "cell_type": "code",
      "metadata": {
        "id": "_TJROPnggcAJ"
      },
      "source": [
        "#Dictionary with integer keys:\n",
        "\n",
        "intdict = {10: \"C++\", 20: \"Java\", 30: \"Python\", 40: \"Ruby\"}"
      ],
      "execution_count": 80,
      "outputs": []
    },
    {
      "cell_type": "code",
      "metadata": {
        "colab": {
          "base_uri": "https://localhost:8080/"
        },
        "id": "TzDanuWSgcAJ",
        "outputId": "66a04688-7fbd-4746-a403-9fbfffb00f44"
      },
      "source": [
        "intdict.keys()"
      ],
      "execution_count": 81,
      "outputs": [
        {
          "output_type": "execute_result",
          "data": {
            "text/plain": [
              "dict_keys([10, 20, 30, 40])"
            ]
          },
          "metadata": {
            "tags": []
          },
          "execution_count": 81
        }
      ]
    },
    {
      "cell_type": "code",
      "metadata": {
        "colab": {
          "base_uri": "https://localhost:8080/"
        },
        "id": "dPIZkVLNgcAK",
        "outputId": "0e4bc124-b175-4332-b4d3-3df42d8d9fe3"
      },
      "source": [
        "intdict.values()"
      ],
      "execution_count": 82,
      "outputs": [
        {
          "output_type": "execute_result",
          "data": {
            "text/plain": [
              "dict_values(['C++', 'Java', 'Python', 'Ruby'])"
            ]
          },
          "metadata": {
            "tags": []
          },
          "execution_count": 82
        }
      ]
    },
    {
      "cell_type": "code",
      "metadata": {
        "colab": {
          "base_uri": "https://localhost:8080/"
        },
        "id": "1s1cUgL3gcAK",
        "outputId": "67cb2829-36ba-4962-e963-16c56d731f38"
      },
      "source": [
        "intdict.items()"
      ],
      "execution_count": 83,
      "outputs": [
        {
          "output_type": "execute_result",
          "data": {
            "text/plain": [
              "dict_items([(10, 'C++'), (20, 'Java'), (30, 'Python'), (40, 'Ruby')])"
            ]
          },
          "metadata": {
            "tags": []
          },
          "execution_count": 83
        }
      ]
    },
    {
      "cell_type": "code",
      "metadata": {
        "colab": {
          "base_uri": "https://localhost:8080/"
        },
        "id": "Kn8lxuzUgcAL",
        "outputId": "e0b535d1-f1f9-4cd3-ac07-ef580e7e1184"
      },
      "source": [
        "# adding a new key to a dictionary\n",
        "\n",
        "intdict.update({50:'Rails'})\n",
        "intdict"
      ],
      "execution_count": 84,
      "outputs": [
        {
          "output_type": "execute_result",
          "data": {
            "text/plain": [
              "{10: 'C++', 20: 'Java', 30: 'Python', 40: 'Ruby', 50: 'Rails'}"
            ]
          },
          "metadata": {
            "tags": []
          },
          "execution_count": 84
        }
      ]
    },
    {
      "cell_type": "code",
      "metadata": {
        "colab": {
          "base_uri": "https://localhost:8080/"
        },
        "id": "QdSHYVDQgcAL",
        "outputId": "7d367b22-4001-455f-de92-1adba37b6ef6"
      },
      "source": [
        "# adding a value in given key\n",
        "\n",
        "intdict[40]='Csharp'\n",
        "intdict"
      ],
      "execution_count": 85,
      "outputs": [
        {
          "output_type": "execute_result",
          "data": {
            "text/plain": [
              "{10: 'C++', 20: 'Java', 30: 'Python', 40: 'Csharp', 50: 'Rails'}"
            ]
          },
          "metadata": {
            "tags": []
          },
          "execution_count": 85
        }
      ]
    },
    {
      "cell_type": "code",
      "metadata": {
        "colab": {
          "base_uri": "https://localhost:8080/"
        },
        "id": "wfKT-gYggcAM",
        "outputId": "fb1c2f9d-d846-4ec7-e3ff-8031adb54f8f"
      },
      "source": [
        "# delete a key\n",
        "del intdict[50]\n",
        "intdict"
      ],
      "execution_count": 86,
      "outputs": [
        {
          "output_type": "execute_result",
          "data": {
            "text/plain": [
              "{10: 'C++', 20: 'Java', 30: 'Python', 40: 'Csharp'}"
            ]
          },
          "metadata": {
            "tags": []
          },
          "execution_count": 86
        }
      ]
    },
    {
      "cell_type": "code",
      "metadata": {
        "colab": {
          "base_uri": "https://localhost:8080/"
        },
        "id": "ZBG0iKvGgcAM",
        "outputId": "457f3c65-382a-47af-acd9-427ee4366c87"
      },
      "source": [
        "# delete with pop\n",
        "intdict.pop(30)\n",
        "intdict"
      ],
      "execution_count": 87,
      "outputs": [
        {
          "output_type": "execute_result",
          "data": {
            "text/plain": [
              "{10: 'C++', 20: 'Java', 40: 'Csharp'}"
            ]
          },
          "metadata": {
            "tags": []
          },
          "execution_count": 87
        }
      ]
    },
    {
      "cell_type": "code",
      "metadata": {
        "colab": {
          "base_uri": "https://localhost:8080/"
        },
        "id": "-l3DHqvNgcAM",
        "outputId": "e66d3d1f-af13-4061-82c4-bc00aacb37ed"
      },
      "source": [
        "intdict.items()"
      ],
      "execution_count": 88,
      "outputs": [
        {
          "output_type": "execute_result",
          "data": {
            "text/plain": [
              "dict_items([(10, 'C++'), (20, 'Java'), (40, 'Csharp')])"
            ]
          },
          "metadata": {
            "tags": []
          },
          "execution_count": 88
        }
      ]
    },
    {
      "cell_type": "code",
      "metadata": {
        "id": "ZvUApFNAgcAN"
      },
      "source": [
        "# disctionary with multiple values\n",
        "\n",
        "newdict={1:['Red','Green','Blue'],2:['White','Pink','Purple'],3:['brown','yellow','Light green']}"
      ],
      "execution_count": 89,
      "outputs": []
    },
    {
      "cell_type": "code",
      "metadata": {
        "colab": {
          "base_uri": "https://localhost:8080/"
        },
        "id": "Mah2MI88gcAN",
        "outputId": "8211e3bb-6a64-43e8-f0c1-80c153b519a3"
      },
      "source": [
        "newdict"
      ],
      "execution_count": 90,
      "outputs": [
        {
          "output_type": "execute_result",
          "data": {
            "text/plain": [
              "{1: ['Red', 'Green', 'Blue'],\n",
              " 2: ['White', 'Pink', 'Purple'],\n",
              " 3: ['brown', 'yellow', 'Light green']}"
            ]
          },
          "metadata": {
            "tags": []
          },
          "execution_count": 90
        }
      ]
    },
    {
      "cell_type": "code",
      "metadata": {
        "colab": {
          "base_uri": "https://localhost:8080/"
        },
        "id": "hjP_tl7SgcAO",
        "outputId": "bc7c83df-90dc-45fc-e554-38fc1ec91766"
      },
      "source": [
        "newdict.keys()"
      ],
      "execution_count": 91,
      "outputs": [
        {
          "output_type": "execute_result",
          "data": {
            "text/plain": [
              "dict_keys([1, 2, 3])"
            ]
          },
          "metadata": {
            "tags": []
          },
          "execution_count": 91
        }
      ]
    },
    {
      "cell_type": "code",
      "metadata": {
        "colab": {
          "base_uri": "https://localhost:8080/"
        },
        "id": "zs_3oxQzgcAO",
        "outputId": "b5a92dcc-987b-4ac3-8552-79248be6d127"
      },
      "source": [
        "newdict.values()"
      ],
      "execution_count": 92,
      "outputs": [
        {
          "output_type": "execute_result",
          "data": {
            "text/plain": [
              "dict_values([['Red', 'Green', 'Blue'], ['White', 'Pink', 'Purple'], ['brown', 'yellow', 'Light green']])"
            ]
          },
          "metadata": {
            "tags": []
          },
          "execution_count": 92
        }
      ]
    },
    {
      "cell_type": "code",
      "metadata": {
        "colab": {
          "base_uri": "https://localhost:8080/"
        },
        "id": "Jd5wbmXJgcAO",
        "outputId": "62443a60-68cb-47d3-be64-0c14857554f4"
      },
      "source": [
        "newdict.items()"
      ],
      "execution_count": 93,
      "outputs": [
        {
          "output_type": "execute_result",
          "data": {
            "text/plain": [
              "dict_items([(1, ['Red', 'Green', 'Blue']), (2, ['White', 'Pink', 'Purple']), (3, ['brown', 'yellow', 'Light green'])])"
            ]
          },
          "metadata": {
            "tags": []
          },
          "execution_count": 93
        }
      ]
    },
    {
      "cell_type": "code",
      "metadata": {
        "id": "8ch5rT5tgcAP"
      },
      "source": [
        "dict.clear()"
      ],
      "execution_count": 94,
      "outputs": []
    },
    {
      "cell_type": "code",
      "metadata": {
        "colab": {
          "base_uri": "https://localhost:8080/"
        },
        "id": "IeMeeXkhgcAQ",
        "outputId": "79449865-c97e-4d07-f161-3c7281e058a0"
      },
      "source": [
        "dict"
      ],
      "execution_count": 95,
      "outputs": [
        {
          "output_type": "execute_result",
          "data": {
            "text/plain": [
              "{}"
            ]
          },
          "metadata": {
            "tags": []
          },
          "execution_count": 95
        }
      ]
    },
    {
      "cell_type": "code",
      "metadata": {
        "id": "NbL_DYgYgcAR"
      },
      "source": [
        "del dict"
      ],
      "execution_count": 96,
      "outputs": []
    },
    {
      "cell_type": "code",
      "metadata": {
        "colab": {
          "base_uri": "https://localhost:8080/"
        },
        "id": "QZ7Y3soJgcAR",
        "outputId": "e6d61d58-b75b-4ad2-a707-a11e8c8f5f8b"
      },
      "source": [
        "dict"
      ],
      "execution_count": 97,
      "outputs": [
        {
          "output_type": "execute_result",
          "data": {
            "text/plain": [
              "dict"
            ]
          },
          "metadata": {
            "tags": []
          },
          "execution_count": 97
        }
      ]
    }
  ]
}