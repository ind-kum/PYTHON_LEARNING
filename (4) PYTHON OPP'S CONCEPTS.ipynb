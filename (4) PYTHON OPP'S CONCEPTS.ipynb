{
 "cells": [
  {
   "cell_type": "markdown",
   "metadata": {},
   "source": [
    "# CLASS IN PYTHON"
   ]
  },
  {
   "cell_type": "markdown",
   "metadata": {},
   "source": [
    "The basic idea behind an object-oriented programming (OOP) is to combime both data and associated prcedures (known as methods)\n",
    "into a single unit which operate on the data. Such a unit is called an object."
   ]
  },
  {
   "cell_type": "code",
   "execution_count": 1,
   "metadata": {},
   "outputs": [],
   "source": [
    "class myclass:\n",
    "    k=123  # attribute number\n",
    "    d=6.7\n",
    "    def testf():  # member function\n",
    "        print(\"This is my first class\")"
   ]
  },
  {
   "cell_type": "code",
   "execution_count": 2,
   "metadata": {},
   "outputs": [
    {
     "name": "stdout",
     "output_type": "stream",
     "text": [
      "123\n",
      "6.7\n"
     ]
    },
    {
     "data": {
      "text/plain": [
       "<bound method myclass.testf of <__main__.myclass object at 0x000001C121AC3208>>"
      ]
     },
     "execution_count": 2,
     "metadata": {},
     "output_type": "execute_result"
    }
   ],
   "source": [
    "#creating object\n",
    "m=myclass()\n",
    "# calling attribute with member function\n",
    "print(m.k)\n",
    "print(m.d)\n",
    "m.testf"
   ]
  },
  {
   "cell_type": "code",
   "execution_count": 3,
   "metadata": {},
   "outputs": [],
   "source": [
    "class calculator:\n",
    "    def addition(a,b):\n",
    "        return(a+b)\n",
    "    \n",
    "    def division(a,b):\n",
    "        return(a/b)\n",
    "    \n",
    "    def subtraction(a,b):\n",
    "        return (a-b)\n",
    "    \n",
    "    def multiply(a,b):\n",
    "        return (a*b)\n",
    "     "
   ]
  },
  {
   "cell_type": "code",
   "execution_count": 4,
   "metadata": {},
   "outputs": [
    {
     "data": {
      "text/plain": [
       "16"
      ]
     },
     "execution_count": 4,
     "metadata": {},
     "output_type": "execute_result"
    }
   ],
   "source": [
    "calculator.addition(8,8)"
   ]
  },
  {
   "cell_type": "code",
   "execution_count": 5,
   "metadata": {},
   "outputs": [
    {
     "data": {
      "text/plain": [
       "3.0"
      ]
     },
     "execution_count": 5,
     "metadata": {},
     "output_type": "execute_result"
    }
   ],
   "source": [
    "calculator.division(9,3)"
   ]
  },
  {
   "cell_type": "code",
   "execution_count": 6,
   "metadata": {},
   "outputs": [],
   "source": [
    "# call subtraction and multiply"
   ]
  },
  {
   "cell_type": "markdown",
   "metadata": {},
   "source": [
    "Class Objects:\n",
    "    \n",
    "There are two kind of operations class objects supports:attribute references and instantiation.\n",
    "    Attribute references use the standard syntax, obj.name for all attribute references in python"
   ]
  },
  {
   "cell_type": "code",
   "execution_count": 7,
   "metadata": {},
   "outputs": [],
   "source": [
    "class employee:\n",
    "    emp_id=1001 #attribute\n",
    "    emp_name=\"Andrew\"\n",
    "    emp_dept=\"HR\""
   ]
  },
  {
   "cell_type": "markdown",
   "metadata": {},
   "source": [
    "Self argument\n",
    "\n",
    "The self-argument refers to the object itself. Hence the use of the word self. So inside this method, self will refer to the specific instance of this object that's being operated on.\n",
    "\n",
    "Self is the preferd by converntion by python to indicate the first parameter of instance methods in python. it is part of the python syntax to access members of object"
   ]
  },
  {
   "cell_type": "code",
   "execution_count": 8,
   "metadata": {},
   "outputs": [],
   "source": [
    "class employee:\n",
    "    emp_id=1001\n",
    "    emp_name=\"Andrew\"\n",
    "    emp_dept=\"HR\"\n",
    "    \n",
    "    def message(self):\n",
    "        return \"Employee will join soon\""
   ]
  },
  {
   "cell_type": "markdown",
   "metadata": {},
   "source": [
    "then employee.emp_id,employee.emp_name,employee.emp_dept are valid attribute references and return '1001',\"Andrew\",\n",
    "'HR'. Employee.message return a function object. In python self is a name for the first argument of a method which is different from ordinary function. Rather than passing the object as a parameter\n",
    "in  a method the word self refers to the object itself. For example if a method is defined as avg(self,x,y,z),it should be called as a.avg(x,y,z)"
   ]
  },
  {
   "cell_type": "code",
   "execution_count": 9,
   "metadata": {},
   "outputs": [
    {
     "data": {
      "text/plain": [
       "1001"
      ]
     },
     "execution_count": 9,
     "metadata": {},
     "output_type": "execute_result"
    }
   ],
   "source": [
    "employee.emp_id"
   ]
  },
  {
   "cell_type": "code",
   "execution_count": 10,
   "metadata": {},
   "outputs": [
    {
     "data": {
      "text/plain": [
       "'Andrew'"
      ]
     },
     "execution_count": 10,
     "metadata": {},
     "output_type": "execute_result"
    }
   ],
   "source": [
    "employee.emp_name"
   ]
  },
  {
   "cell_type": "code",
   "execution_count": 11,
   "metadata": {},
   "outputs": [
    {
     "data": {
      "text/plain": [
       "'HR'"
      ]
     },
     "execution_count": 11,
     "metadata": {},
     "output_type": "execute_result"
    }
   ],
   "source": [
    "employee.emp_dept"
   ]
  },
  {
   "cell_type": "code",
   "execution_count": 12,
   "metadata": {},
   "outputs": [
    {
     "data": {
      "text/plain": [
       "<function __main__.employee.message(self)>"
      ]
     },
     "execution_count": 12,
     "metadata": {},
     "output_type": "execute_result"
    }
   ],
   "source": [
    "employee.message"
   ]
  },
  {
   "cell_type": "markdown",
   "metadata": {},
   "source": [
    "init method:\n",
    "    \n",
    "There are many method names in python which have special importance. A class may define a special method named init\n",
    "which does some intialization work and serves as a constructor for the class. Like other functins or methods init can take\n",
    "any number of arguments. The init method is run as soon as an object of a class is instantiated and class instanitiation\n",
    "automatically invokes init() for the newly-created class instance. See the following example a new, intialized instance can be obtained by:"
   ]
  },
  {
   "cell_type": "code",
   "execution_count": 13,
   "metadata": {},
   "outputs": [],
   "source": [
    "class employee:\n",
    "    \n",
    "    def __init__(self,name,age):\n",
    "        self.name=name\n",
    "        self.age=age"
   ]
  },
  {
   "cell_type": "code",
   "execution_count": 14,
   "metadata": {},
   "outputs": [
    {
     "name": "stdout",
     "output_type": "stream",
     "text": [
      "Sam\n",
      "25\n"
     ]
    }
   ],
   "source": [
    "p1=employee(\"Sam\",25)\n",
    "print(p1.name)\n",
    "print(p1.age)"
   ]
  },
  {
   "cell_type": "markdown",
   "metadata": {},
   "source": [
    "# TASK"
   ]
  },
  {
   "cell_type": "markdown",
   "metadata": {},
   "source": [
    "Creat a class company.Declare 3 attributes name,location,number_of_employees. Now intialize the company class."
   ]
  },
  {
   "cell_type": "code",
   "execution_count": 15,
   "metadata": {},
   "outputs": [],
   "source": [
    "class company:\n",
    "    \n",
    "    def __init__(self,name,location,number_of_employees):\n",
    "        self.name=name\n",
    "        self.location=location\n",
    "        self.number_of_employees=number_of_employees\n",
    "        "
   ]
  },
  {
   "cell_type": "code",
   "execution_count": 16,
   "metadata": {},
   "outputs": [
    {
     "name": "stdout",
     "output_type": "stream",
     "text": [
      "George\n",
      "London\n",
      "400\n"
     ]
    }
   ],
   "source": [
    "c=company(\"George\",\"London\",400)\n",
    "print(c.name)\n",
    "print(c.location)\n",
    "print(c.number_of_employees)\n",
    "\n",
    "\n"
   ]
  },
  {
   "cell_type": "code",
   "execution_count": 17,
   "metadata": {},
   "outputs": [],
   "source": [
    "class car:\n",
    "    #A simple class for cars\n",
    "    \n",
    "    #Constructor to initialize\n",
    "    def __init__(self,company,color):\n",
    "        self.company = company\n",
    "        self.color = color\n",
    "        \n",
    "    #function to print car company and color\n",
    "    def display(self):\n",
    "        print ('This is a', self.color, self.company)"
   ]
  },
  {
   "cell_type": "code",
   "execution_count": 18,
   "metadata": {},
   "outputs": [],
   "source": [
    "def main():\n",
    "    c=car(\"Ferrari\",\"Red\")\n",
    "    c.display(\n",
    "    )"
   ]
  },
  {
   "cell_type": "code",
   "execution_count": 19,
   "metadata": {},
   "outputs": [
    {
     "name": "stdout",
     "output_type": "stream",
     "text": [
      "This is a Red Ferrari\n"
     ]
    }
   ],
   "source": [
    "if __name__==\"__main__\":\n",
    "    main()\n",
    "    "
   ]
  },
  {
   "cell_type": "code",
   "execution_count": 20,
   "metadata": {},
   "outputs": [],
   "source": [
    "class employee:\n",
    "    \n",
    "    def __init__(self,name,age):\n",
    "        print(\"initialized method called\")\n",
    "        self.name=name\n",
    "        self.age=age\n",
    "        \n",
    "        \n",
    "    def getdata(self,name,age):\n",
    "        print(\"getdata method called\")\n",
    "        self.name=name\n",
    "        self.age=age\n",
    "        \n",
    "        \n",
    "    def displaydata(self):\n",
    "        print(\"Hello\",self.name,self.age)\n",
    "        \n",
    "        "
   ]
  },
  {
   "cell_type": "code",
   "execution_count": 21,
   "metadata": {},
   "outputs": [],
   "source": [
    "def main():\n",
    "    e=employee(\"William\",35) # her initialize will work\n",
    "    e.displaydata()\n",
    "    \n",
    "    e.getdata(\"john\",25)\n",
    "    e.displaydata()\n",
    "\n",
    "    "
   ]
  },
  {
   "cell_type": "code",
   "execution_count": 22,
   "metadata": {},
   "outputs": [
    {
     "name": "stdout",
     "output_type": "stream",
     "text": [
      "initialized method called\n",
      "Hello William 35\n",
      "getdata method called\n",
      "Hello john 25\n"
     ]
    }
   ],
   "source": [
    "if __name__==\"__main__\":\n",
    "    main()\n",
    "    "
   ]
  },
  {
   "cell_type": "markdown",
   "metadata": {},
   "source": [
    "CREATE A PLAYER CLASS WITH NAME,AGE,SPORTS ASSOCIATED WITH THE PLAYER."
   ]
  },
  {
   "cell_type": "code",
   "execution_count": 23,
   "metadata": {},
   "outputs": [
    {
     "name": "stdout",
     "output_type": "stream",
     "text": [
      "Initialized data for players\n",
      "Player details: Virat 35 Cricket\n",
      "Getting data for players\n",
      "Player details: Richard 45 Tennis\n"
     ]
    }
   ],
   "source": [
    "class player:\n",
    "    \n",
    "    def __init__(self,name,age,sport):\n",
    "        print(\"Initialized data for players\")\n",
    "        self.name=name\n",
    "        self.age=age\n",
    "        self.sport=sport\n",
    "        \n",
    "    def getdata(self,name,age,sport):\n",
    "        print(\"Getting data for players\")\n",
    "        self.name=name\n",
    "        self.age=age\n",
    "        self.sport=sport\n",
    "        \n",
    "    def displaydata(self):\n",
    "        print(\"Player details:\",self.name,self.age,self.sport)\n",
    "        \n",
    "def main():\n",
    "    p=player(\"Virat\",35,\"Cricket\")\n",
    "    p.displaydata()\n",
    "    \n",
    "    p.getdata(\"Richard\",45,\"Tennis\")\n",
    "    p.displaydata()\n",
    "    \n",
    "if __name__==\"__main__\":\n",
    "    main()"
   ]
  },
  {
   "cell_type": "markdown",
   "metadata": {},
   "source": [
    "# MODULES"
   ]
  },
  {
   "cell_type": "markdown",
   "metadata": {},
   "source": [
    "IMPORT CALCULATOR_MODULE"
   ]
  },
  {
   "cell_type": "markdown",
   "metadata": {},
   "source": [
    "PYTHON MODULE SEARCH PATH\n",
    "\n",
    "While importing a module, Python looks at several places. Interpeter first looks for a built-in module then (if not found) into a\n",
    "list of directories defined in says path. The search is in this order. The current directory."
   ]
  },
  {
   "cell_type": "code",
   "execution_count": 24,
   "metadata": {},
   "outputs": [],
   "source": [
    "import sys"
   ]
  },
  {
   "cell_type": "code",
   "execution_count": 25,
   "metadata": {},
   "outputs": [
    {
     "data": {
      "text/plain": [
       "['C:\\\\Users\\\\INDROCKS',\n",
       " 'C:\\\\Users\\\\INDROCKS\\\\Anaconda3\\\\python37.zip',\n",
       " 'C:\\\\Users\\\\INDROCKS\\\\Anaconda3\\\\DLLs',\n",
       " 'C:\\\\Users\\\\INDROCKS\\\\Anaconda3\\\\lib',\n",
       " 'C:\\\\Users\\\\INDROCKS\\\\Anaconda3',\n",
       " '',\n",
       " 'C:\\\\Users\\\\INDROCKS\\\\Anaconda3\\\\lib\\\\site-packages',\n",
       " 'C:\\\\Users\\\\INDROCKS\\\\Anaconda3\\\\lib\\\\site-packages\\\\win32',\n",
       " 'C:\\\\Users\\\\INDROCKS\\\\Anaconda3\\\\lib\\\\site-packages\\\\win32\\\\lib',\n",
       " 'C:\\\\Users\\\\INDROCKS\\\\Anaconda3\\\\lib\\\\site-packages\\\\Pythonwin',\n",
       " 'C:\\\\Users\\\\INDROCKS\\\\Anaconda3\\\\lib\\\\site-packages\\\\IPython\\\\extensions',\n",
       " 'C:\\\\Users\\\\INDROCKS\\\\.ipython']"
      ]
     },
     "execution_count": 25,
     "metadata": {},
     "output_type": "execute_result"
    }
   ],
   "source": [
    "sys.path"
   ]
  },
  {
   "cell_type": "code",
   "execution_count": 26,
   "metadata": {},
   "outputs": [
    {
     "data": {
      "text/plain": [
       "'In : '"
      ]
     },
     "execution_count": 26,
     "metadata": {},
     "output_type": "execute_result"
    }
   ],
   "source": [
    "sys.ps1"
   ]
  },
  {
   "cell_type": "code",
   "execution_count": 27,
   "metadata": {},
   "outputs": [],
   "source": [
    "import os"
   ]
  },
  {
   "cell_type": "code",
   "execution_count": 28,
   "metadata": {},
   "outputs": [
    {
     "data": {
      "text/plain": [
       "'C:\\\\Users\\\\INDROCKS'"
      ]
     },
     "execution_count": 28,
     "metadata": {},
     "output_type": "execute_result"
    }
   ],
   "source": [
    "# get current working directory\n",
    "os.getcwd()"
   ]
  },
  {
   "cell_type": "code",
   "execution_count": 29,
   "metadata": {},
   "outputs": [],
   "source": [
    "#Changing Directory\n",
    "#We can change the current working directory using the chdir() method.\n",
    "#os.chdir('c:\\\\Users')\n",
    "#os.getcwd()"
   ]
  },
  {
   "cell_type": "code",
   "execution_count": 30,
   "metadata": {},
   "outputs": [
    {
     "data": {
      "text/plain": [
       "['(1) PYTHON BASICS.ipynb',\n",
       " '(2) PYTHON DATA STRUCTURES.ipynb',\n",
       " '(3) PYTHON LOOP FUNCTION.ipynb',\n",
       " \"(4) PYTHON OPP'S CONCEPTS.ipynb\",\n",
       " '(5) PYTHON OBJECTS SERIALIZATION (Reg Ex.).ipynb',\n",
       " '(6) CONNECT SQL ALCHEMY.ipynb',\n",
       " '(6) MYSQL_CONNECTOR_NOTEBOOK.ipynb',\n",
       " '(7)  NUMPY 08 DEC CLASS.ipynb',\n",
       " '(8)  MERGE, CONCATENATION, JOIN AND APPEND OPERATION.ipynb',\n",
       " '(9)  PANDAS_MERGE_JOIN_OPERATON_CSV_INTRO.ipynb',\n",
       " '.anaconda',\n",
       " '.conda',\n",
       " '.condarc',\n",
       " '.gitconfig',\n",
       " '.idlerc',\n",
       " '.ipynb_checkpoints',\n",
       " '.ipython',\n",
       " '.jupyter',\n",
       " '.matplotlib',\n",
       " '.spyder-py3',\n",
       " 'age_salary.csv',\n",
       " 'Anaconda3',\n",
       " 'AppData',\n",
       " 'Application Data',\n",
       " 'bikes.csv',\n",
       " 'bikes_linear_reg.pkl',\n",
       " 'Concrete_Data.xls',\n",
       " 'Cookies',\n",
       " 'demofile.txt',\n",
       " 'Desktop',\n",
       " 'diabetes_prog_lreg.pkl',\n",
       " 'Documents',\n",
       " 'Downloads',\n",
       " 'E.D.A.  FORMULAS.ipynb',\n",
       " 'empl.csv',\n",
       " 'emptest.csv',\n",
       " 'filename.pkl',\n",
       " 'Flower',\n",
       " 'grade.csv',\n",
       " 'gs5',\n",
       " 'headbrain.csv',\n",
       " 'hrdata.csv',\n",
       " 'hrdata_modified.csv',\n",
       " 'IntelGraphicsProfiles',\n",
       " 'iris.csv',\n",
       " 'Local Settings',\n",
       " 'lr_headbrain.pkl',\n",
       " 'M. L._Sonar_dataset_.ipynb',\n",
       " 'M.L.  [II] (boston_case_csv_with_Function).ipynb',\n",
       " 'M.L. [III]  (cancer_logisticregression_prediction).ipynb',\n",
       " 'M.L. [IV]   classification_load_iris.ipynb',\n",
       " 'M.L. [I] (Student_Hour_Grade_csv_with_Function).ipynb',\n",
       " 'M.L. [VI]  Ensemble Tech. Classifier (Random Forest, Ada Boosting, Gradian Boosting and XGBoost)_loadiris.ipynb',\n",
       " 'M.L. [VI]  Ensemble Tech. Regressor (Random Forest, Ada Boosting, Gradian Boosting and XGBoost).ipynb',\n",
       " 'M.L. [VI]  UnSupervised Learning.ipynb',\n",
       " 'M.L. [VI]_Pickle_&_Joblib,_Encoder_and_Fill_The_Null_Values.ipynb',\n",
       " 'M.L. [V]  cross_val_predict_diabetes.ipynb',\n",
       " 'MATPLOTILIB (visualization with graph).ipynb',\n",
       " 'MicrosoftEdgeBackups',\n",
       " 'MULTI FOLDERS',\n",
       " 'My Documents',\n",
       " 'N.L.P.   (Implementing Regular Expression in Python).ipynb',\n",
       " 'NetHood',\n",
       " 'NTUSER.DAT',\n",
       " 'ntuser.dat.LOG1',\n",
       " 'ntuser.dat.LOG2',\n",
       " 'NTUSER.DAT{d1993736-d6c1-11e9-84bc-9b2c1021be05}.TM.blf',\n",
       " 'NTUSER.DAT{d1993736-d6c1-11e9-84bc-9b2c1021be05}.TMContainer00000000000000000001.regtrans-ms',\n",
       " 'NTUSER.DAT{d1993736-d6c1-11e9-84bc-9b2c1021be05}.TMContainer00000000000000000002.regtrans-ms',\n",
       " 'ntuser.ini',\n",
       " 'ntuser.pol',\n",
       " 'NUMPYEXERCISE (Statistical function with numpy-Mean, median, min, max, ntp, variance, standard deviation).ipynb',\n",
       " 'PANDAS_DATA_VISUALIZATION.ipynb',\n",
       " 'PANDAS_FUNCTIONS(LOC,ILOC AND APPEND).ipynb',\n",
       " 'prediction_dtc.csv',\n",
       " 'prediction_svc.csv',\n",
       " 'president_heights.csv',\n",
       " 'PrintHood',\n",
       " 'Project8_Wine_Dataset.ipynb',\n",
       " 'Recent',\n",
       " 'SCIPY_STATS_PROGRAM_CENTRALTEN_PROBABILITY_DISTN-COPY1.ipynb',\n",
       " 'SEABORN (visualization with multigraph).ipynb',\n",
       " 'seaborn-data',\n",
       " 'SendTo',\n",
       " 'service_dataset.csv',\n",
       " 'sna.csv',\n",
       " 'Social Networks Ads.pkl',\n",
       " 'sonar.csv',\n",
       " 'Start Menu',\n",
       " 'STATS (OUTLERS_BOXPLOT).ipynb',\n",
       " 'student_marks.csv',\n",
       " 'svc_prediction.csv',\n",
       " 'Templates',\n",
       " 'titanic.csv',\n",
       " 'wine.csv',\n",
       " 'WineDataset.pkl']"
      ]
     },
     "execution_count": 30,
     "metadata": {},
     "output_type": "execute_result"
    }
   ],
   "source": [
    "os.listdir()"
   ]
  },
  {
   "cell_type": "code",
   "execution_count": 31,
   "metadata": {},
   "outputs": [],
   "source": [
    "import math"
   ]
  },
  {
   "cell_type": "code",
   "execution_count": 32,
   "metadata": {},
   "outputs": [
    {
     "data": {
      "text/plain": [
       "3.141592653589793"
      ]
     },
     "execution_count": 32,
     "metadata": {},
     "output_type": "execute_result"
    }
   ],
   "source": [
    "math.pi"
   ]
  },
  {
   "cell_type": "code",
   "execution_count": 33,
   "metadata": {},
   "outputs": [
    {
     "data": {
      "text/plain": [
       "4.0"
      ]
     },
     "execution_count": 33,
     "metadata": {},
     "output_type": "execute_result"
    }
   ],
   "source": [
    "math.sqrt(16)"
   ]
  },
  {
   "cell_type": "code",
   "execution_count": 34,
   "metadata": {},
   "outputs": [
    {
     "data": {
      "text/plain": [
       "3.0"
      ]
     },
     "execution_count": 34,
     "metadata": {},
     "output_type": "execute_result"
    }
   ],
   "source": [
    "# square root\n",
    "math.sqrt(9)"
   ]
  },
  {
   "cell_type": "code",
   "execution_count": 35,
   "metadata": {},
   "outputs": [
    {
     "data": {
      "text/plain": [
       "8.0"
      ]
     },
     "execution_count": 35,
     "metadata": {},
     "output_type": "execute_result"
    }
   ],
   "source": [
    "# power function\n",
    "math.pow(2,3)"
   ]
  },
  {
   "cell_type": "code",
   "execution_count": 36,
   "metadata": {},
   "outputs": [
    {
     "data": {
      "text/plain": [
       "3.141592653589793"
      ]
     },
     "execution_count": 36,
     "metadata": {},
     "output_type": "execute_result"
    }
   ],
   "source": [
    "import math as m\n",
    "m.pi"
   ]
  },
  {
   "cell_type": "code",
   "execution_count": 37,
   "metadata": {},
   "outputs": [
    {
     "data": {
      "text/plain": [
       "16.0"
      ]
     },
     "execution_count": 37,
     "metadata": {},
     "output_type": "execute_result"
    }
   ],
   "source": [
    "m.pow(4,2)"
   ]
  },
  {
   "cell_type": "markdown",
   "metadata": {},
   "source": [
    "Python from...import statement\n",
    "\n",
    "We can import specific names from a module without importing the module as a whole. Here\n",
    "is an example"
   ]
  },
  {
   "cell_type": "code",
   "execution_count": 38,
   "metadata": {},
   "outputs": [
    {
     "data": {
      "text/plain": [
       "3.141592653589793"
      ]
     },
     "execution_count": 38,
     "metadata": {},
     "output_type": "execute_result"
    }
   ],
   "source": [
    "from math import pi\n",
    "pi"
   ]
  },
  {
   "cell_type": "code",
   "execution_count": 39,
   "metadata": {},
   "outputs": [
    {
     "data": {
      "text/plain": [
       "3.0"
      ]
     },
     "execution_count": 39,
     "metadata": {},
     "output_type": "execute_result"
    }
   ],
   "source": [
    "from math import sqrt\n",
    "sqrt(9)"
   ]
  },
  {
   "cell_type": "code",
   "execution_count": 40,
   "metadata": {},
   "outputs": [
    {
     "name": "stdout",
     "output_type": "stream",
     "text": [
      "The value of pi is 3.141592653589793\n"
     ]
    }
   ],
   "source": [
    "print(\"The value of pi is\", pi)"
   ]
  },
  {
   "cell_type": "markdown",
   "metadata": {},
   "source": [
    "# FILE INPUT/OUTPUT OPERATIONS"
   ]
  },
  {
   "cell_type": "markdown",
   "metadata": {},
   "source": [
    "f=open('E:\\Python\\file1.txt','w')\n",
    "\n",
    "f=open('E:\\Python\\file.txt','r')"
   ]
  },
  {
   "cell_type": "code",
   "execution_count": 41,
   "metadata": {},
   "outputs": [],
   "source": [
    "savefile=open('C:\\\\Users\\\\indrocks\\\\demofile.txt','w')"
   ]
  },
  {
   "cell_type": "code",
   "execution_count": 42,
   "metadata": {},
   "outputs": [
    {
     "data": {
      "text/plain": [
       "23"
      ]
     },
     "execution_count": 42,
     "metadata": {},
     "output_type": "execute_result"
    }
   ],
   "source": [
    "savefile.write(\"this is the first line.\")"
   ]
  },
  {
   "cell_type": "code",
   "execution_count": 43,
   "metadata": {},
   "outputs": [],
   "source": [
    "savefile.close()"
   ]
  },
  {
   "cell_type": "code",
   "execution_count": 44,
   "metadata": {},
   "outputs": [],
   "source": [
    "readme=open('C:\\\\Users\\\\Indrocks\\\\demofile.txt','r')"
   ]
  },
  {
   "cell_type": "code",
   "execution_count": 45,
   "metadata": {},
   "outputs": [
    {
     "name": "stdout",
     "output_type": "stream",
     "text": [
      "this is the first line.\n"
     ]
    }
   ],
   "source": [
    "print(readme.read())"
   ]
  },
  {
   "cell_type": "code",
   "execution_count": 46,
   "metadata": {},
   "outputs": [],
   "source": [
    "readme.close()"
   ]
  },
  {
   "cell_type": "code",
   "execution_count": 47,
   "metadata": {},
   "outputs": [],
   "source": [
    "appendfile=open('C:\\\\Users\\\\indrocks\\\\demofile.txt','a')"
   ]
  },
  {
   "cell_type": "code",
   "execution_count": 48,
   "metadata": {},
   "outputs": [
    {
     "data": {
      "text/plain": [
       "23"
      ]
     },
     "execution_count": 48,
     "metadata": {},
     "output_type": "execute_result"
    }
   ],
   "source": [
    "appendfile.write(\"\\n this is the next line\")"
   ]
  },
  {
   "cell_type": "code",
   "execution_count": 49,
   "metadata": {},
   "outputs": [],
   "source": [
    "appendfile.close()"
   ]
  },
  {
   "cell_type": "code",
   "execution_count": 50,
   "metadata": {},
   "outputs": [],
   "source": [
    "readme=open(\"C:\\\\Users\\\\indrocks\\\\demofile.txt\",'r')"
   ]
  },
  {
   "cell_type": "code",
   "execution_count": 51,
   "metadata": {},
   "outputs": [
    {
     "name": "stdout",
     "output_type": "stream",
     "text": [
      "this is the first line.\n",
      " this is the next line\n"
     ]
    }
   ],
   "source": [
    "print(readme.read())"
   ]
  },
  {
   "cell_type": "code",
   "execution_count": 52,
   "metadata": {},
   "outputs": [],
   "source": [
    "readme.close()"
   ]
  }
 ],
 "metadata": {
  "kernelspec": {
   "display_name": "Python 3",
   "language": "python",
   "name": "python3"
  },
  "language_info": {
   "codemirror_mode": {
    "name": "ipython",
    "version": 3
   },
   "file_extension": ".py",
   "mimetype": "text/x-python",
   "name": "python",
   "nbconvert_exporter": "python",
   "pygments_lexer": "ipython3",
   "version": "3.7.4"
  }
 },
 "nbformat": 4,
 "nbformat_minor": 2
}
